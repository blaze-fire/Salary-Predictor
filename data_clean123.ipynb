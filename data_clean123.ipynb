{
 "cells": [
  {
   "cell_type": "code",
   "execution_count": 1,
   "metadata": {},
   "outputs": [],
   "source": [
    "import pandas as pd\n",
    "import numpy as np\n",
    "import matplotlib.pyplot as plt\n",
    "import seaborn as sns"
   ]
  },
  {
   "cell_type": "code",
   "execution_count": 119,
   "metadata": {},
   "outputs": [],
   "source": [
    "df1 = pd.read_excel('final_data.xlsx', sheet_name='final_data', names=['Job_position', 'Company', 'Location', 'Salary', 'posting_time', 'requirements', 'rating', 'experience', 'link'],\n",
    "                    na_values=['#NAME?'], engine='openpyxl' )"
   ]
  },
  {
   "cell_type": "code",
   "execution_count": 3,
   "metadata": {},
   "outputs": [],
   "source": [
    "df2 = pd.read_excel('software_dev.xlsx', sheet_name='new_jobs', names=['Job_position', 'Company', 'Location', 'Salary', 'posting_time', 'requirements', 'rating', 'experience', 'link'],\n",
    "                    na_values=['#NAME?'], engine='openpyxl' )"
   ]
  },
  {
   "cell_type": "code",
   "execution_count": 4,
   "metadata": {},
   "outputs": [],
   "source": [
    "df = pd.concat([df1, df2])"
   ]
  },
  {
   "cell_type": "code",
   "execution_count": 6,
   "metadata": {},
   "outputs": [
    {
     "name": "stdout",
     "output_type": "stream",
     "text": [
      "<class 'pandas.core.frame.DataFrame'>\n",
      "Int64Index: 16481 entries, 0 to 6749\n",
      "Data columns (total 9 columns):\n",
      " #   Column        Non-Null Count  Dtype \n",
      "---  ------        --------------  ----- \n",
      " 0   Job_position  16481 non-null  object\n",
      " 1   Company       16481 non-null  object\n",
      " 2   Location      16481 non-null  object\n",
      " 3   Salary        16481 non-null  object\n",
      " 4   posting_time  16481 non-null  object\n",
      " 5   requirements  16481 non-null  object\n",
      " 6   rating        16481 non-null  object\n",
      " 7   experience    16481 non-null  object\n",
      " 8   link          16481 non-null  object\n",
      "dtypes: object(9)\n",
      "memory usage: 1.3+ MB\n"
     ]
    }
   ],
   "source": [
    "df.info()"
   ]
  },
  {
   "cell_type": "code",
   "execution_count": 7,
   "metadata": {},
   "outputs": [],
   "source": [
    "# link & posting time for the jobs columns are not important for our analysis so we will drop them\n",
    "df.drop('link', axis=1, inplace=True) \n",
    "df.drop('posting_time', axis=1, inplace=True) "
   ]
  },
  {
   "cell_type": "code",
   "execution_count": 8,
   "metadata": {},
   "outputs": [
    {
     "data": {
      "text/html": [
       "<div>\n",
       "<style scoped>\n",
       "    .dataframe tbody tr th:only-of-type {\n",
       "        vertical-align: middle;\n",
       "    }\n",
       "\n",
       "    .dataframe tbody tr th {\n",
       "        vertical-align: top;\n",
       "    }\n",
       "\n",
       "    .dataframe thead th {\n",
       "        text-align: right;\n",
       "    }\n",
       "</style>\n",
       "<table border=\"1\" class=\"dataframe\">\n",
       "  <thead>\n",
       "    <tr style=\"text-align: right;\">\n",
       "      <th></th>\n",
       "      <th>Job_position</th>\n",
       "      <th>Company</th>\n",
       "      <th>Location</th>\n",
       "      <th>Salary</th>\n",
       "      <th>requirements</th>\n",
       "      <th>rating</th>\n",
       "      <th>experience</th>\n",
       "    </tr>\n",
       "  </thead>\n",
       "  <tbody>\n",
       "    <tr>\n",
       "      <th>0</th>\n",
       "      <td>Junior Software Developer\\nnew</td>\n",
       "      <td>Gather Network</td>\n",
       "      <td>Urban Estate Gurgaon, Haryana</td>\n",
       "      <td>\\n₹20,000 a month</td>\n",
       "      <td>We are actively looking for a few freshers who...</td>\n",
       "      <td>na</td>\n",
       "      <td>na</td>\n",
       "    </tr>\n",
       "    <tr>\n",
       "      <th>1</th>\n",
       "      <td>Big Data Developer\\nnew</td>\n",
       "      <td>Agile Placement</td>\n",
       "      <td>Pune, Maharashtra</td>\n",
       "      <td>\\n₹5,00,000 - ₹14,00,000 a year</td>\n",
       "      <td>_Strong knowledge of programming and scripting...</td>\n",
       "      <td>na</td>\n",
       "      <td>Total work: 6 years</td>\n",
       "    </tr>\n",
       "    <tr>\n",
       "      <th>2</th>\n",
       "      <td>Data Scientist\\nnew</td>\n",
       "      <td>Client of PlaceElements HR</td>\n",
       "      <td>Thiruvananthapuram, Kerala</td>\n",
       "      <td>\\n₹5,00,000 - ₹10,00,000 a year</td>\n",
       "      <td>Experience in working closely with data analys...</td>\n",
       "      <td>na</td>\n",
       "      <td>Python: Algorithms: Statistics: 1 yearData Sci...</td>\n",
       "    </tr>\n",
       "    <tr>\n",
       "      <th>3</th>\n",
       "      <td>Software Engineer - Machine Learning Engineer</td>\n",
       "      <td>Siemens Technology and Services Private Limited</td>\n",
       "      <td>Pune, Maharashtra</td>\n",
       "      <td>na</td>\n",
       "      <td>Experience with machine learning architectures...</td>\n",
       "      <td>\\n4.0\\n\\n\\n\\n\\n</td>\n",
       "      <td>na</td>\n",
       "    </tr>\n",
       "    <tr>\n",
       "      <th>4</th>\n",
       "      <td>Machine Learning (Fullstack) at Sadhashiva Nag...</td>\n",
       "      <td>Teqlinx Software Solutions LLC</td>\n",
       "      <td>Bengaluru, Karnataka</td>\n",
       "      <td>\\n₹30,00,000 a year</td>\n",
       "      <td>• Extremely strong programming background – da...</td>\n",
       "      <td>na</td>\n",
       "      <td>na</td>\n",
       "    </tr>\n",
       "  </tbody>\n",
       "</table>\n",
       "</div>"
      ],
      "text/plain": [
       "                                        Job_position  \\\n",
       "0                     Junior Software Developer\\nnew   \n",
       "1                            Big Data Developer\\nnew   \n",
       "2                                Data Scientist\\nnew   \n",
       "3      Software Engineer - Machine Learning Engineer   \n",
       "4  Machine Learning (Fullstack) at Sadhashiva Nag...   \n",
       "\n",
       "                                           Company                       Location  \\\n",
       "0                                   Gather Network  Urban Estate Gurgaon, Haryana   \n",
       "1                                  Agile Placement              Pune, Maharashtra   \n",
       "2                       Client of PlaceElements HR     Thiruvananthapuram, Kerala   \n",
       "3  Siemens Technology and Services Private Limited              Pune, Maharashtra   \n",
       "4                   Teqlinx Software Solutions LLC           Bengaluru, Karnataka   \n",
       "\n",
       "                            Salary                                       requirements  \\\n",
       "0                \\n₹20,000 a month  We are actively looking for a few freshers who...   \n",
       "1  \\n₹5,00,000 - ₹14,00,000 a year  _Strong knowledge of programming and scripting...   \n",
       "2  \\n₹5,00,000 - ₹10,00,000 a year  Experience in working closely with data analys...   \n",
       "3                               na  Experience with machine learning architectures...   \n",
       "4              \\n₹30,00,000 a year  • Extremely strong programming background – da...   \n",
       "\n",
       "            rating                                         experience  \n",
       "0               na                                                 na  \n",
       "1               na                                Total work: 6 years  \n",
       "2               na  Python: Algorithms: Statistics: 1 yearData Sci...  \n",
       "3  \\n4.0\\n\\n\\n\\n\\n                                                 na  \n",
       "4               na                                                 na  "
      ]
     },
     "execution_count": 8,
     "metadata": {},
     "output_type": "execute_result"
    }
   ],
   "source": [
    "df.head()"
   ]
  },
  {
   "cell_type": "code",
   "execution_count": 9,
   "metadata": {},
   "outputs": [
    {
     "name": "stdout",
     "output_type": "stream",
     "text": [
      "Length of Duplicated rows 15355\n"
     ]
    }
   ],
   "source": [
    "print('Length of Duplicated rows', len(df[df.duplicated()]))"
   ]
  },
  {
   "cell_type": "code",
   "execution_count": 10,
   "metadata": {},
   "outputs": [],
   "source": [
    "freq = df[df.duplicated()]['Company'].value_counts()"
   ]
  },
  {
   "cell_type": "code",
   "execution_count": 11,
   "metadata": {},
   "outputs": [
    {
     "data": {
      "text/plain": [
       "Shaw Academy                             1533\n",
       "Solvencia Technologies Pvt Ltd           1456\n",
       "Lunavo Labs                              1071\n",
       "Integrated Personnel Services Limited    1035\n",
       "Manappuram Finance Limited                943\n",
       "                                         ... \n",
       "Vyvin                                       1\n",
       "Version 1                                   1\n",
       "i2k2 Networks                               1\n",
       "Inncrewin Technologies PVT LTD              1\n",
       "Moving Walls India Pvt Ltd                  1\n",
       "Name: Company, Length: 76, dtype: int64"
      ]
     },
     "execution_count": 11,
     "metadata": {},
     "output_type": "execute_result"
    }
   ],
   "source": [
    "freq"
   ]
  },
  {
   "cell_type": "code",
   "execution_count": 12,
   "metadata": {},
   "outputs": [],
   "source": [
    "df.drop_duplicates(inplace=True)"
   ]
  },
  {
   "cell_type": "code",
   "execution_count": 13,
   "metadata": {},
   "outputs": [],
   "source": [
    "df['posting_frequency'] = df['Company'].map(freq)"
   ]
  },
  {
   "cell_type": "code",
   "execution_count": 14,
   "metadata": {},
   "outputs": [],
   "source": [
    "df['posting_frequency'].fillna(1, inplace=True)"
   ]
  },
  {
   "cell_type": "code",
   "execution_count": 15,
   "metadata": {},
   "outputs": [
    {
     "name": "stdout",
     "output_type": "stream",
     "text": [
      "              Job_position       Company           Location Salary  \\\n",
      "510  Information Developer  BMC Software  Pune, Maharashtra     na   \n",
      "\n",
      "                                          requirements           rating experience  \\\n",
      "510  Under direction from IDD management and lead i...  \\n4.0\\n\\n\\n\\n\\n         na   \n",
      "\n",
      "     posting_frequency  \n",
      "510                1.0  \n"
     ]
    }
   ],
   "source": [
    "print(df[df['Company'] == 'BMC Software'])"
   ]
  },
  {
   "cell_type": "code",
   "execution_count": 16,
   "metadata": {},
   "outputs": [],
   "source": [
    "df['Job_position'] = df['Job_position'].apply(lambda x: str(x).replace('\\nnew',''))"
   ]
  },
  {
   "cell_type": "code",
   "execution_count": 17,
   "metadata": {},
   "outputs": [],
   "source": [
    "df.drop_duplicates(inplace=True)"
   ]
  },
  {
   "cell_type": "code",
   "execution_count": 18,
   "metadata": {},
   "outputs": [],
   "source": [
    "df.index = np.arange(0,len(df))"
   ]
  },
  {
   "cell_type": "code",
   "execution_count": 19,
   "metadata": {},
   "outputs": [
    {
     "name": "stdout",
     "output_type": "stream",
     "text": [
      "<class 'pandas.core.frame.DataFrame'>\n",
      "Int64Index: 1124 entries, 0 to 1123\n",
      "Data columns (total 8 columns):\n",
      " #   Column             Non-Null Count  Dtype  \n",
      "---  ------             --------------  -----  \n",
      " 0   Job_position       1124 non-null   object \n",
      " 1   Company            1124 non-null   object \n",
      " 2   Location           1124 non-null   object \n",
      " 3   Salary             1124 non-null   object \n",
      " 4   requirements       1124 non-null   object \n",
      " 5   rating             1124 non-null   object \n",
      " 6   experience         1124 non-null   object \n",
      " 7   posting_frequency  1124 non-null   float64\n",
      "dtypes: float64(1), object(7)\n",
      "memory usage: 79.0+ KB\n"
     ]
    }
   ],
   "source": [
    "df.info()"
   ]
  },
  {
   "cell_type": "code",
   "execution_count": 20,
   "metadata": {},
   "outputs": [],
   "source": [
    "df['rating'] = df.rating.apply(lambda x: x.replace('\\n',''))"
   ]
  },
  {
   "cell_type": "code",
   "execution_count": 21,
   "metadata": {},
   "outputs": [],
   "source": [
    "df['Salary'].fillna('-999', inplace=True)"
   ]
  },
  {
   "cell_type": "code",
   "execution_count": 22,
   "metadata": {},
   "outputs": [],
   "source": [
    "df['Salary'] = df['Salary'].apply(lambda x: str(x).replace('\\n',''))\n",
    "df['Salary'] = df['Salary'].apply(lambda x: str(x).replace('₹',''))"
   ]
  },
  {
   "cell_type": "code",
   "execution_count": null,
   "metadata": {},
   "outputs": [],
   "source": []
  },
  {
   "cell_type": "code",
   "execution_count": 23,
   "metadata": {},
   "outputs": [
    {
     "data": {
      "text/plain": [
       "Int64Index([188, 294, 390, 723], dtype='int64')"
      ]
     },
     "execution_count": 23,
     "metadata": {},
     "output_type": "execute_result"
    }
   ],
   "source": [
    "df[df['experience'] == 'Higher Secondary(12th Pass)'].index"
   ]
  },
  {
   "cell_type": "code",
   "execution_count": 24,
   "metadata": {},
   "outputs": [],
   "source": [
    "net_experience = []\n",
    "for i in df.experience:\n",
    "    temp=[]\n",
    "    for word in i.split():\n",
    "        if word.isdigit():\n",
    "            temp.append(word)\n",
    "    if temp:\n",
    "        temp.sort(reverse=True)\n",
    "        net_experience.append(temp[0])\n",
    "    else:\n",
    "        net_experience.append(-99)"
   ]
  },
  {
   "cell_type": "code",
   "execution_count": 25,
   "metadata": {},
   "outputs": [],
   "source": [
    "df['net_experience'] = net_experience"
   ]
  },
  {
   "cell_type": "code",
   "execution_count": 26,
   "metadata": {},
   "outputs": [
    {
     "data": {
      "text/html": [
       "<div>\n",
       "<style scoped>\n",
       "    .dataframe tbody tr th:only-of-type {\n",
       "        vertical-align: middle;\n",
       "    }\n",
       "\n",
       "    .dataframe tbody tr th {\n",
       "        vertical-align: top;\n",
       "    }\n",
       "\n",
       "    .dataframe thead th {\n",
       "        text-align: right;\n",
       "    }\n",
       "</style>\n",
       "<table border=\"1\" class=\"dataframe\">\n",
       "  <thead>\n",
       "    <tr style=\"text-align: right;\">\n",
       "      <th></th>\n",
       "      <th>Job_position</th>\n",
       "      <th>Company</th>\n",
       "      <th>Location</th>\n",
       "      <th>Salary</th>\n",
       "      <th>requirements</th>\n",
       "      <th>rating</th>\n",
       "      <th>experience</th>\n",
       "      <th>posting_frequency</th>\n",
       "      <th>net_experience</th>\n",
       "    </tr>\n",
       "  </thead>\n",
       "  <tbody>\n",
       "    <tr>\n",
       "      <th>0</th>\n",
       "      <td>Junior Software Developer</td>\n",
       "      <td>Gather Network</td>\n",
       "      <td>Urban Estate Gurgaon, Haryana</td>\n",
       "      <td>20,000 a month</td>\n",
       "      <td>We are actively looking for a few freshers who...</td>\n",
       "      <td>na</td>\n",
       "      <td>na</td>\n",
       "      <td>1.0</td>\n",
       "      <td>-99</td>\n",
       "    </tr>\n",
       "    <tr>\n",
       "      <th>1</th>\n",
       "      <td>Big Data Developer</td>\n",
       "      <td>Agile Placement</td>\n",
       "      <td>Pune, Maharashtra</td>\n",
       "      <td>5,00,000 - 14,00,000 a year</td>\n",
       "      <td>_Strong knowledge of programming and scripting...</td>\n",
       "      <td>na</td>\n",
       "      <td>Total work: 6 years</td>\n",
       "      <td>1.0</td>\n",
       "      <td>6</td>\n",
       "    </tr>\n",
       "    <tr>\n",
       "      <th>2</th>\n",
       "      <td>Data Scientist</td>\n",
       "      <td>Client of PlaceElements HR</td>\n",
       "      <td>Thiruvananthapuram, Kerala</td>\n",
       "      <td>5,00,000 - 10,00,000 a year</td>\n",
       "      <td>Experience in working closely with data analys...</td>\n",
       "      <td>na</td>\n",
       "      <td>Python: Algorithms: Statistics: 1 yearData Sci...</td>\n",
       "      <td>1.0</td>\n",
       "      <td>2</td>\n",
       "    </tr>\n",
       "    <tr>\n",
       "      <th>3</th>\n",
       "      <td>Software Engineer - Machine Learning Engineer</td>\n",
       "      <td>Siemens Technology and Services Private Limited</td>\n",
       "      <td>Pune, Maharashtra</td>\n",
       "      <td>na</td>\n",
       "      <td>Experience with machine learning architectures...</td>\n",
       "      <td>4.0</td>\n",
       "      <td>na</td>\n",
       "      <td>1.0</td>\n",
       "      <td>-99</td>\n",
       "    </tr>\n",
       "    <tr>\n",
       "      <th>4</th>\n",
       "      <td>Machine Learning (Fullstack) at Sadhashiva Nag...</td>\n",
       "      <td>Teqlinx Software Solutions LLC</td>\n",
       "      <td>Bengaluru, Karnataka</td>\n",
       "      <td>30,00,000 a year</td>\n",
       "      <td>• Extremely strong programming background – da...</td>\n",
       "      <td>na</td>\n",
       "      <td>na</td>\n",
       "      <td>1.0</td>\n",
       "      <td>-99</td>\n",
       "    </tr>\n",
       "  </tbody>\n",
       "</table>\n",
       "</div>"
      ],
      "text/plain": [
       "                                        Job_position  \\\n",
       "0                          Junior Software Developer   \n",
       "1                                 Big Data Developer   \n",
       "2                                     Data Scientist   \n",
       "3      Software Engineer - Machine Learning Engineer   \n",
       "4  Machine Learning (Fullstack) at Sadhashiva Nag...   \n",
       "\n",
       "                                           Company                       Location  \\\n",
       "0                                   Gather Network  Urban Estate Gurgaon, Haryana   \n",
       "1                                  Agile Placement              Pune, Maharashtra   \n",
       "2                       Client of PlaceElements HR     Thiruvananthapuram, Kerala   \n",
       "3  Siemens Technology and Services Private Limited              Pune, Maharashtra   \n",
       "4                   Teqlinx Software Solutions LLC           Bengaluru, Karnataka   \n",
       "\n",
       "                        Salary                                       requirements rating  \\\n",
       "0               20,000 a month  We are actively looking for a few freshers who...     na   \n",
       "1  5,00,000 - 14,00,000 a year  _Strong knowledge of programming and scripting...     na   \n",
       "2  5,00,000 - 10,00,000 a year  Experience in working closely with data analys...     na   \n",
       "3                           na  Experience with machine learning architectures...    4.0   \n",
       "4             30,00,000 a year  • Extremely strong programming background – da...     na   \n",
       "\n",
       "                                          experience  posting_frequency net_experience  \n",
       "0                                                 na                1.0            -99  \n",
       "1                                Total work: 6 years                1.0              6  \n",
       "2  Python: Algorithms: Statistics: 1 yearData Sci...                1.0              2  \n",
       "3                                                 na                1.0            -99  \n",
       "4                                                 na                1.0            -99  "
      ]
     },
     "execution_count": 26,
     "metadata": {},
     "output_type": "execute_result"
    }
   ],
   "source": [
    "df.head()"
   ]
  },
  {
   "cell_type": "code",
   "execution_count": 27,
   "metadata": {},
   "outputs": [],
   "source": [
    "df['net_experience'] = df['net_experience'].astype('int32')"
   ]
  },
  {
   "cell_type": "code",
   "execution_count": 28,
   "metadata": {},
   "outputs": [
    {
     "data": {
      "text/plain": [
       "<AxesSubplot:xlabel='net_experience'>"
      ]
     },
     "execution_count": 28,
     "metadata": {},
     "output_type": "execute_result"
    },
    {
     "data": {
      "image/png": "[encoded data removed]",
      "text/plain": [
       "<Figure size 432x288 with 1 Axes>"
      ]
     },
     "metadata": {
      "needs_background": "light"
     },
     "output_type": "display_data"
    }
   ],
   "source": [
    "sns.distplot(df[df['net_experience']>0]['net_experience'])"
   ]
  },
  {
   "cell_type": "code",
   "execution_count": 29,
   "metadata": {},
   "outputs": [],
   "source": [
    "net_experience = []\n",
    "for i in df.requirements:\n",
    "    temp=[]\n",
    "    for word in i.split():\n",
    "        if word.isdigit():\n",
    "            temp.append(word)\n",
    "    if temp:\n",
    "        temp.sort(reverse=True)\n",
    "        net_experience.append(temp[0])\n",
    "    else:\n",
    "        net_experience.append(-99)"
   ]
  },
  {
   "cell_type": "code",
   "execution_count": 30,
   "metadata": {},
   "outputs": [],
   "source": [
    "df['exp2'] = net_experience\n"
   ]
  },
  {
   "cell_type": "code",
   "execution_count": 31,
   "metadata": {},
   "outputs": [],
   "source": [
    "for p in ['²', '0080091', '2020', '2024', '2019', '90', '88', '32', '48', '40', '50', '24']:\n",
    "    df['exp2'] = df['exp2'].apply(lambda x: str(x).replace(p,'-99'))"
   ]
  },
  {
   "cell_type": "code",
   "execution_count": 32,
   "metadata": {},
   "outputs": [],
   "source": [
    "df['exp2'] = df['exp2'].astype('int32')"
   ]
  },
  {
   "cell_type": "code",
   "execution_count": null,
   "metadata": {},
   "outputs": [],
   "source": []
  },
  {
   "cell_type": "code",
   "execution_count": 33,
   "metadata": {},
   "outputs": [],
   "source": [
    "df['net_experience'] = df['net_experience'].where((df['net_experience']>0), df['exp2'])\n",
    "df.drop('exp2', axis=1, inplace=True)"
   ]
  },
  {
   "cell_type": "code",
   "execution_count": 34,
   "metadata": {},
   "outputs": [
    {
     "name": "stderr",
     "output_type": "stream",
     "text": [
      "<ipython-input-34-a0b9b4ea4fe2>:1: SettingWithCopyWarning: \n",
      "A value is trying to be set on a copy of a slice from a DataFrame\n",
      "\n",
      "See the caveats in the documentation: https://pandas.pydata.org/pandas-docs/stable/user_guide/indexing.html#returning-a-view-versus-a-copy\n",
      "  df['net_experience'][[188, 294, 390, 723]] = 0\n",
      "c:\\python\\python38\\lib\\site-packages\\pandas\\core\\indexing.py:670: SettingWithCopyWarning: \n",
      "A value is trying to be set on a copy of a slice from a DataFrame\n",
      "\n",
      "See the caveats in the documentation: https://pandas.pydata.org/pandas-docs/stable/user_guide/indexing.html#returning-a-view-versus-a-copy\n",
      "  iloc._setitem_with_indexer(indexer, value)\n"
     ]
    }
   ],
   "source": [
    "df['net_experience'][[188, 294, 390, 723]] = 0"
   ]
  },
  {
   "cell_type": "code",
   "execution_count": 49,
   "metadata": {},
   "outputs": [
    {
     "data": {
      "text/plain": [
       "<AxesSubplot:xlabel='rating'>"
      ]
     },
     "execution_count": 49,
     "metadata": {},
     "output_type": "execute_result"
    },
    {
     "data": {
      "image/png": "[encoded data removed]",
      "text/plain": [
       "<Figure size 432x288 with 1 Axes>"
      ]
     },
     "metadata": {
      "needs_background": "light"
     },
     "output_type": "display_data"
    }
   ],
   "source": [
    "sns.distplot(df[df['rating']>0]['rating'])"
   ]
  },
  {
   "cell_type": "code",
   "execution_count": 48,
   "metadata": {},
   "outputs": [],
   "source": [
    "df['rating'].where(df['rating'] != 'na', -99, inplace=True)\n",
    "df['rating'] = df['rating'].astype('float64')"
   ]
  },
  {
   "cell_type": "code",
   "execution_count": 74,
   "metadata": {},
   "outputs": [],
   "source": [
    "if 'Bachelor' in df.iloc[10]['experience'].replace('year', ' ').split(\"'\"):\n",
    "    print('yes')"
   ]
  },
  {
   "cell_type": "code",
   "execution_count": 79,
   "metadata": {},
   "outputs": [
    {
     "data": {
      "text/plain": [
       "'DataEngineer/ETL Developer: 1  DataWarehousing: 1  Bachelor'"
      ]
     },
     "execution_count": 79,
     "metadata": {},
     "output_type": "execute_result"
    }
   ],
   "source": [
    "df.iloc[10]['experience'].replace('year', ' ').split(\"'\")[0]"
   ]
  },
  {
   "cell_type": "code",
   "execution_count": 87,
   "metadata": {},
   "outputs": [
    {
     "data": {
      "text/plain": [
       "['.Net: 3  sWork: 3  sTotal work: 3  s']"
      ]
     },
     "execution_count": 87,
     "metadata": {},
     "output_type": "execute_result"
    }
   ],
   "source": [
    "df.iloc[29]['experience'].replace('year', ' ').split(\"'\")"
   ]
  },
  {
   "cell_type": "code",
   "execution_count": 106,
   "metadata": {},
   "outputs": [
    {
     "data": {
      "text/plain": [
       "['Bachelor', 's']"
      ]
     },
     "execution_count": 106,
     "metadata": {},
     "output_type": "execute_result"
    }
   ],
   "source": [
    "df['experience'][22].replace('year',' ').replace('years',' ').replace(\"'\",' ').split()"
   ]
  },
  {
   "cell_type": "code",
   "execution_count": null,
   "metadata": {},
   "outputs": [],
   "source": []
  },
  {
   "cell_type": "code",
   "execution_count": null,
   "metadata": {},
   "outputs": [],
   "source": []
  },
  {
   "cell_type": "code",
   "execution_count": 117,
   "metadata": {},
   "outputs": [],
   "source": [
    "def education_level(data):\n",
    "    if 'bachelor' in data.replace('year',' ').replace(\"'\",' ').lower().split():\n",
    "        return 'bachelor'\n",
    "    if 'secondary' in data.replace('year',' ').replace('(',' ').replace(\"'\",' ').lower().split():\n",
    "        return 'secondary'\n",
    "    if 'master' in data.replace('year',' ').replace(\"'\",' ').lower().split():\n",
    "        return 'masters'"
   ]
  },
  {
   "cell_type": "code",
   "execution_count": 118,
   "metadata": {},
   "outputs": [
    {
     "data": {
      "text/plain": [
       "bachelor     62\n",
       "secondary     5\n",
       "masters       1\n",
       "Name: experience, dtype: int64"
      ]
     },
     "execution_count": 118,
     "metadata": {},
     "output_type": "execute_result"
    }
   ],
   "source": [
    "df['experience'].map(education_level).value_counts()"
   ]
  },
  {
   "cell_type": "code",
   "execution_count": null,
   "metadata": {},
   "outputs": [],
   "source": []
  },
  {
   "cell_type": "code",
   "execution_count": null,
   "metadata": {},
   "outputs": [],
   "source": []
  },
  {
   "cell_type": "code",
   "execution_count": null,
   "metadata": {},
   "outputs": [],
   "source": []
  },
  {
   "cell_type": "code",
   "execution_count": null,
   "metadata": {},
   "outputs": [],
   "source": []
  },
  {
   "cell_type": "code",
   "execution_count": 50,
   "metadata": {},
   "outputs": [
    {
     "data": {
      "text/html": [
       "<div>\n",
       "<style scoped>\n",
       "    .dataframe tbody tr th:only-of-type {\n",
       "        vertical-align: middle;\n",
       "    }\n",
       "\n",
       "    .dataframe tbody tr th {\n",
       "        vertical-align: top;\n",
       "    }\n",
       "\n",
       "    .dataframe thead th {\n",
       "        text-align: right;\n",
       "    }\n",
       "</style>\n",
       "<table border=\"1\" class=\"dataframe\">\n",
       "  <thead>\n",
       "    <tr style=\"text-align: right;\">\n",
       "      <th></th>\n",
       "      <th>Job_position</th>\n",
       "      <th>Company</th>\n",
       "      <th>Location</th>\n",
       "      <th>Salary</th>\n",
       "      <th>requirements</th>\n",
       "      <th>rating</th>\n",
       "      <th>experience</th>\n",
       "      <th>posting_frequency</th>\n",
       "      <th>net_experience</th>\n",
       "    </tr>\n",
       "  </thead>\n",
       "  <tbody>\n",
       "    <tr>\n",
       "      <th>0</th>\n",
       "      <td>Junior Software Developer</td>\n",
       "      <td>Gather Network</td>\n",
       "      <td>Urban Estate Gurgaon, Haryana</td>\n",
       "      <td>20,000 a month</td>\n",
       "      <td>We are actively looking for a few freshers who...</td>\n",
       "      <td>-99.0</td>\n",
       "      <td>na</td>\n",
       "      <td>1.0</td>\n",
       "      <td>-99</td>\n",
       "    </tr>\n",
       "    <tr>\n",
       "      <th>1</th>\n",
       "      <td>Big Data Developer</td>\n",
       "      <td>Agile Placement</td>\n",
       "      <td>Pune, Maharashtra</td>\n",
       "      <td>5,00,000 - 14,00,000 a year</td>\n",
       "      <td>_Strong knowledge of programming and scripting...</td>\n",
       "      <td>-99.0</td>\n",
       "      <td>Total work: 6 years</td>\n",
       "      <td>1.0</td>\n",
       "      <td>6</td>\n",
       "    </tr>\n",
       "    <tr>\n",
       "      <th>2</th>\n",
       "      <td>Data Scientist</td>\n",
       "      <td>Client of PlaceElements HR</td>\n",
       "      <td>Thiruvananthapuram, Kerala</td>\n",
       "      <td>5,00,000 - 10,00,000 a year</td>\n",
       "      <td>Experience in working closely with data analys...</td>\n",
       "      <td>-99.0</td>\n",
       "      <td>Python: Algorithms: Statistics: 1 yearData Sci...</td>\n",
       "      <td>1.0</td>\n",
       "      <td>2</td>\n",
       "    </tr>\n",
       "    <tr>\n",
       "      <th>3</th>\n",
       "      <td>Software Engineer - Machine Learning Engineer</td>\n",
       "      <td>Siemens Technology and Services Private Limited</td>\n",
       "      <td>Pune, Maharashtra</td>\n",
       "      <td>na</td>\n",
       "      <td>Experience with machine learning architectures...</td>\n",
       "      <td>4.0</td>\n",
       "      <td>na</td>\n",
       "      <td>1.0</td>\n",
       "      <td>-99</td>\n",
       "    </tr>\n",
       "    <tr>\n",
       "      <th>4</th>\n",
       "      <td>Machine Learning (Fullstack) at Sadhashiva Nag...</td>\n",
       "      <td>Teqlinx Software Solutions LLC</td>\n",
       "      <td>Bengaluru, Karnataka</td>\n",
       "      <td>30,00,000 a year</td>\n",
       "      <td>• Extremely strong programming background – da...</td>\n",
       "      <td>-99.0</td>\n",
       "      <td>na</td>\n",
       "      <td>1.0</td>\n",
       "      <td>-99</td>\n",
       "    </tr>\n",
       "  </tbody>\n",
       "</table>\n",
       "</div>"
      ],
      "text/plain": [
       "                                        Job_position  \\\n",
       "0                          Junior Software Developer   \n",
       "1                                 Big Data Developer   \n",
       "2                                     Data Scientist   \n",
       "3      Software Engineer - Machine Learning Engineer   \n",
       "4  Machine Learning (Fullstack) at Sadhashiva Nag...   \n",
       "\n",
       "                                           Company                       Location  \\\n",
       "0                                   Gather Network  Urban Estate Gurgaon, Haryana   \n",
       "1                                  Agile Placement              Pune, Maharashtra   \n",
       "2                       Client of PlaceElements HR     Thiruvananthapuram, Kerala   \n",
       "3  Siemens Technology and Services Private Limited              Pune, Maharashtra   \n",
       "4                   Teqlinx Software Solutions LLC           Bengaluru, Karnataka   \n",
       "\n",
       "                        Salary                                       requirements  rating  \\\n",
       "0               20,000 a month  We are actively looking for a few freshers who...   -99.0   \n",
       "1  5,00,000 - 14,00,000 a year  _Strong knowledge of programming and scripting...   -99.0   \n",
       "2  5,00,000 - 10,00,000 a year  Experience in working closely with data analys...   -99.0   \n",
       "3                           na  Experience with machine learning architectures...     4.0   \n",
       "4             30,00,000 a year  • Extremely strong programming background – da...   -99.0   \n",
       "\n",
       "                                          experience  posting_frequency  net_experience  \n",
       "0                                                 na                1.0             -99  \n",
       "1                                Total work: 6 years                1.0               6  \n",
       "2  Python: Algorithms: Statistics: 1 yearData Sci...                1.0               2  \n",
       "3                                                 na                1.0             -99  \n",
       "4                                                 na                1.0             -99  "
      ]
     },
     "execution_count": 50,
     "metadata": {},
     "output_type": "execute_result"
    }
   ],
   "source": [
    "df.head()"
   ]
  },
  {
   "cell_type": "code",
   "execution_count": null,
   "metadata": {},
   "outputs": [],
   "source": []
  }
 ],
 "metadata": {
  "kernelspec": {
   "display_name": "Python 3",
   "language": "python",
   "name": "python3"
  },
  "language_info": {
   "codemirror_mode": {
    "name": "ipython",
    "version": 3
   },
   "file_extension": ".py",
   "mimetype": "text/x-python",
   "name": "python",
   "nbconvert_exporter": "python",
   "pygments_lexer": "ipython3",
   "version": "3.8.5"
  }
 },
 "nbformat": 4,
 "nbformat_minor": 4
}
