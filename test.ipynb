{
 "cells": [
  {
   "cell_type": "code",
   "execution_count": 1,
   "id": "2986d3d9",
   "metadata": {},
   "outputs": [
    {
     "name": "stderr",
     "output_type": "stream",
     "text": [
      "[nltk_data] Downloading package stopwords to /home/krish/nltk_data...\n",
      "[nltk_data]   Package stopwords is already up-to-date!\n",
      "[nltk_data] Downloading package punkt to /home/krish/nltk_data...\n",
      "[nltk_data]   Package punkt is already up-to-date!\n",
      "[nltk_data] Downloading package wordnet to /home/krish/nltk_data...\n",
      "[nltk_data]   Package wordnet is already up-to-date!\n",
      "[nltk_data] Downloading package stopwords to /home/krish/nltk_data...\n",
      "[nltk_data]   Package stopwords is already up-to-date!\n",
      "[nltk_data] Downloading package punkt to /home/krish/nltk_data...\n",
      "[nltk_data]   Package punkt is already up-to-date!\n",
      "[nltk_data] Downloading package wordnet to /home/krish/nltk_data...\n",
      "[nltk_data]   Package wordnet is already up-to-date!\n"
     ]
    }
   ],
   "source": [
    "import pandas as pd\n",
    "import numpy as np\n",
    "from utils.clean_utils import Preprocess\n",
    "import pandas as pd\n",
    "import numpy as np\n",
    "import re\n",
    "from nltk.corpus import stopwords\n",
    "from nltk.stem import WordNetLemmatizer\n",
    "import nltk\n",
    "import time\n",
    "\n",
    "nltk.download('stopwords')\n",
    "nltk.download('punkt')\n",
    "nltk.download('wordnet')\n",
    "lemmatizer = WordNetLemmatizer()\n",
    "\n",
    "#load prepared data\n",
    "df = pd.read_csv('data/data_train.csv')\n",
    "df.drop_duplicates(inplace=True, ignore_index=True)"
   ]
  },
  {
   "cell_type": "code",
   "execution_count": 4,
   "id": "c10edb54-f9bc-4a29-abbb-562a3854284b",
   "metadata": {},
   "outputs": [
    {
     "data": {
      "text/html": [
       "<div>\n",
       "<style scoped>\n",
       "    .dataframe tbody tr th:only-of-type {\n",
       "        vertical-align: middle;\n",
       "    }\n",
       "\n",
       "    .dataframe tbody tr th {\n",
       "        vertical-align: top;\n",
       "    }\n",
       "\n",
       "    .dataframe thead th {\n",
       "        text-align: right;\n",
       "    }\n",
       "</style>\n",
       "<table border=\"1\" class=\"dataframe\">\n",
       "  <thead>\n",
       "    <tr style=\"text-align: right;\">\n",
       "      <th></th>\n",
       "      <th>Job_position</th>\n",
       "      <th>Company</th>\n",
       "      <th>Location</th>\n",
       "      <th>Salary</th>\n",
       "      <th>requirements</th>\n",
       "      <th>rating</th>\n",
       "      <th>experience</th>\n",
       "    </tr>\n",
       "  </thead>\n",
       "  <tbody>\n",
       "    <tr>\n",
       "      <th>0</th>\n",
       "      <td>Junior Software Developer\\nnew</td>\n",
       "      <td>Gather Network</td>\n",
       "      <td>Urban Estate Gurgaon, Haryana</td>\n",
       "      <td>\\n₹20,000 a month</td>\n",
       "      <td>We are actively looking for a few freshers who...</td>\n",
       "      <td>NaN</td>\n",
       "      <td>NaN</td>\n",
       "    </tr>\n",
       "    <tr>\n",
       "      <th>1</th>\n",
       "      <td>Big Data Developer\\nnew</td>\n",
       "      <td>Agile Placement</td>\n",
       "      <td>Pune, Maharashtra</td>\n",
       "      <td>\\n₹5,00,000 - ₹14,00,000 a year</td>\n",
       "      <td>_Strong knowledge of programming and scripting...</td>\n",
       "      <td>NaN</td>\n",
       "      <td>Total work: 6 years</td>\n",
       "    </tr>\n",
       "    <tr>\n",
       "      <th>2</th>\n",
       "      <td>Data Scientist\\nnew</td>\n",
       "      <td>Client of PlaceElements HR</td>\n",
       "      <td>Thiruvananthapuram, Kerala</td>\n",
       "      <td>\\n₹5,00,000 - ₹10,00,000 a year</td>\n",
       "      <td>Experience in working closely with data analys...</td>\n",
       "      <td>NaN</td>\n",
       "      <td>Python: Algorithms: Statistics: 1 yearData Sci...</td>\n",
       "    </tr>\n",
       "    <tr>\n",
       "      <th>3</th>\n",
       "      <td>Software Engineer - Machine Learning Engineer</td>\n",
       "      <td>Siemens Technology and Services Private Limited</td>\n",
       "      <td>Pune, Maharashtra</td>\n",
       "      <td>NaN</td>\n",
       "      <td>Experience with machine learning architectures...</td>\n",
       "      <td>\\n4.0\\n\\n\\n\\n\\n</td>\n",
       "      <td>NaN</td>\n",
       "    </tr>\n",
       "    <tr>\n",
       "      <th>4</th>\n",
       "      <td>Machine Learning (Fullstack) at Sadhashiva Nag...</td>\n",
       "      <td>Teqlinx Software Solutions LLC</td>\n",
       "      <td>Bengaluru, Karnataka</td>\n",
       "      <td>\\n₹30,00,000 a year</td>\n",
       "      <td>• Extremely strong programming background – da...</td>\n",
       "      <td>NaN</td>\n",
       "      <td>NaN</td>\n",
       "    </tr>\n",
       "  </tbody>\n",
       "</table>\n",
       "</div>"
      ],
      "text/plain": [
       "                                        Job_position  \\\n",
       "0                     Junior Software Developer\\nnew   \n",
       "1                            Big Data Developer\\nnew   \n",
       "2                                Data Scientist\\nnew   \n",
       "3      Software Engineer - Machine Learning Engineer   \n",
       "4  Machine Learning (Fullstack) at Sadhashiva Nag...   \n",
       "\n",
       "                                           Company  \\\n",
       "0                                   Gather Network   \n",
       "1                                  Agile Placement   \n",
       "2                       Client of PlaceElements HR   \n",
       "3  Siemens Technology and Services Private Limited   \n",
       "4                   Teqlinx Software Solutions LLC   \n",
       "\n",
       "                        Location                           Salary  \\\n",
       "0  Urban Estate Gurgaon, Haryana                \\n₹20,000 a month   \n",
       "1              Pune, Maharashtra  \\n₹5,00,000 - ₹14,00,000 a year   \n",
       "2     Thiruvananthapuram, Kerala  \\n₹5,00,000 - ₹10,00,000 a year   \n",
       "3              Pune, Maharashtra                              NaN   \n",
       "4           Bengaluru, Karnataka              \\n₹30,00,000 a year   \n",
       "\n",
       "                                        requirements           rating  \\\n",
       "0  We are actively looking for a few freshers who...              NaN   \n",
       "1  _Strong knowledge of programming and scripting...              NaN   \n",
       "2  Experience in working closely with data analys...              NaN   \n",
       "3  Experience with machine learning architectures...  \\n4.0\\n\\n\\n\\n\\n   \n",
       "4  • Extremely strong programming background – da...              NaN   \n",
       "\n",
       "                                          experience  \n",
       "0                                                NaN  \n",
       "1                                Total work: 6 years  \n",
       "2  Python: Algorithms: Statistics: 1 yearData Sci...  \n",
       "3                                                NaN  \n",
       "4                                                NaN  "
      ]
     },
     "execution_count": 4,
     "metadata": {},
     "output_type": "execute_result"
    }
   ],
   "source": [
    "df.head()"
   ]
  },
  {
   "cell_type": "code",
   "execution_count": null,
   "id": "ba1cd886-5d3b-4854-93f7-8aee85b3812f",
   "metadata": {},
   "outputs": [],
   "source": []
  },
  {
   "cell_type": "code",
   "execution_count": 137,
   "id": "f626d385-2128-47ab-bd30-7bfd14ac8a95",
   "metadata": {},
   "outputs": [],
   "source": [
    "#Function taken from (https://stackoverflow.com/a/71095469/14204371)\n",
    "def preprocess_text(text):\n",
    "    text = text.lower()\n",
    "    text = re.sub('[^a-zA-Z]', ' ', text)\n",
    "    \n",
    "    stopwords_dict = {word: 1 for word in stopwords.words(\"english\")}\n",
    "    text = \" \".join([word for word in text.split() if word not in stopwords_dict])\n",
    "       \n",
    "    text = ' '.join([lemmatizer.lemmatize(w) for w in text.split()])\n",
    "\n",
    "    return text\n",
    "\n",
    "start_time = time.time()\n",
    "x = df['requirements'].apply(preprocess_text)\n",
    "print(time.time() - start_time)"
   ]
  },
  {
   "cell_type": "code",
   "execution_count": 66,
   "id": "574cde23-54eb-4f8c-8dd0-159c22237113",
   "metadata": {},
   "outputs": [],
   "source": [
    "df.Salary.fillna('', inplace=True)"
   ]
  },
  {
   "cell_type": "code",
   "execution_count": 38,
   "id": "3e629906-1c4a-44eb-a40b-f646730f7bb9",
   "metadata": {},
   "outputs": [],
   "source": [
    "temp = {'x':  9 * 22 * 12}"
   ]
  },
  {
   "cell_type": "code",
   "execution_count": 40,
   "id": "5bcddbcb-2544-4428-a79f-a5a4f0b2f134",
   "metadata": {},
   "outputs": [
    {
     "data": {
      "text/plain": [
       "4752"
      ]
     },
     "execution_count": 40,
     "metadata": {},
     "output_type": "execute_result"
    }
   ],
   "source": []
  },
  {
   "cell_type": "code",
   "execution_count": 67,
   "id": "8d8b5311-c8a8-4d6e-a8d7-3fa6db3f2779",
   "metadata": {},
   "outputs": [],
   "source": [
    "p = '[\\d]+[.,\\d]+|[\\d]*[.][\\d]+|[\\d]+'\n",
    "options = ['a year', 'a month', 'an hour']\n",
    "multiplyFactor = {'a year': 1, 'a month': 12, 'an hour':  9 * 22 * 12}\n",
    "\n",
    "def get_salary(text):\n",
    "    payplan = re.findall(r\"(?=(\"+'|'.join(options)+r\"))\", text)\n",
    "    if(payplan):\n",
    "        \n",
    "        sal = re.findall(p, text)\n",
    "        if(len(sal) > 1):\n",
    "            minSal = int(re.sub(r'(?:(\\d+?)),(\\d+?)',r'\\1\\2',sal[0]))\n",
    "            maxSal = int(re.sub(r'(?:(\\d+?)),(\\d+?)',r'\\1\\2',sal[1]))\n",
    "            annualSal = ((minSal + maxSal)/2)*multiplyFactor[payplan[0]]\n",
    "            return annualSal\n",
    "        \n",
    "        else:\n",
    "            Sal = int(re.sub(r'(?:(\\d+?)),(\\d+?)',r'\\1\\2',sal[0]))\n",
    "            annualSal = Sal*multiplyFactor[payplan[0]]\n",
    "            return annualSal\n",
    "        \n",
    "    else:\n",
    "        return 0"
   ]
  },
  {
   "cell_type": "code",
   "execution_count": 68,
   "id": "160e92ce-23e2-41bb-883e-1a3fd8bb49f6",
   "metadata": {},
   "outputs": [
    {
     "data": {
      "text/plain": [
       "0        240000.0\n",
       "1        950000.0\n",
       "2        750000.0\n",
       "3             0.0\n",
       "4       3000000.0\n",
       "          ...    \n",
       "7921          0.0\n",
       "7922          0.0\n",
       "7923          0.0\n",
       "7924          0.0\n",
       "7925          0.0\n",
       "Name: Salary, Length: 7926, dtype: float64"
      ]
     },
     "execution_count": 68,
     "metadata": {},
     "output_type": "execute_result"
    }
   ],
   "source": [
    "df['Salary'].apply(get_salary)"
   ]
  },
  {
   "cell_type": "code",
   "execution_count": null,
   "id": "5a123d8c-ab8b-4a12-83ae-88859b87a8d0",
   "metadata": {},
   "outputs": [],
   "source": []
  },
  {
   "cell_type": "code",
   "execution_count": 100,
   "id": "d9428d41-39a3-42b1-b34d-1ba8a464335a",
   "metadata": {},
   "outputs": [],
   "source": [
    "def work_location(text):\n",
    "\n",
    "    if re.findall('full.time?', text.lower()):\n",
    "        return 2\n",
    "\n",
    "    elif re.findall('remote?', text.lower()):\n",
    "        return 1\n",
    "\n",
    "    else:\n",
    "        return 0"
   ]
  },
  {
   "cell_type": "code",
   "execution_count": null,
   "id": "1ef52356-bf27-4400-b0cc-90ed944d6c72",
   "metadata": {},
   "outputs": [],
   "source": []
  },
  {
   "cell_type": "code",
   "execution_count": 103,
   "id": "85e5069e-70e9-412f-9220-c72a5b96f6b7",
   "metadata": {},
   "outputs": [
    {
     "data": {
      "text/plain": [
       "0    7020\n",
       "2     764\n",
       "1     142\n",
       "Name: requirements, dtype: int64"
      ]
     },
     "execution_count": 103,
     "metadata": {},
     "output_type": "execute_result"
    }
   ],
   "source": [
    "df['requirements'].fillna('').apply(work_location).value_counts()"
   ]
  },
  {
   "cell_type": "code",
   "execution_count": 90,
   "id": "cc97b7b3-068a-4d97-8115-b48f86fbb1d0",
   "metadata": {},
   "outputs": [],
   "source": []
  },
  {
   "cell_type": "code",
   "execution_count": 91,
   "id": "b2b2909f-7250-4f1f-96b2-a45b7068a699",
   "metadata": {},
   "outputs": [
    {
     "data": {
      "text/plain": [
       "array([ 6.,  2.,  1., ..., 10., 17., 16.])"
      ]
     },
     "execution_count": 91,
     "metadata": {},
     "output_type": "execute_result"
    }
   ],
   "source": []
  },
  {
   "cell_type": "code",
   "execution_count": 98,
   "id": "36daf8b8-c618-4cee-a67c-787a4f6e2fbe",
   "metadata": {},
   "outputs": [
    {
     "data": {
      "text/plain": [
       "1.0     208\n",
       "2.0     177\n",
       "3.0     132\n",
       "4.0      62\n",
       "5.0      41\n",
       "6.0      25\n",
       "10.0     16\n",
       "8.0       9\n",
       "7.0       6\n",
       "9.0       4\n",
       "15.0      4\n",
       "12.0      3\n",
       "dtype: int64"
      ]
     },
     "execution_count": 98,
     "metadata": {},
     "output_type": "execute_result"
    }
   ],
   "source": [
    "pd.DataFrame(x).value_counts()"
   ]
  },
  {
   "cell_type": "code",
   "execution_count": null,
   "id": "920498b5-4946-4484-b940-03c530641745",
   "metadata": {},
   "outputs": [],
   "source": []
  },
  {
   "cell_type": "code",
   "execution_count": 56,
   "id": "d70618eb-1f9f-4cce-b1ea-655385155b48",
   "metadata": {},
   "outputs": [],
   "source": [
    "x = df['experience'].apply(education).values\n",
    "y = df['requirements'].apply(education).values"
   ]
  },
  {
   "cell_type": "code",
   "execution_count": 64,
   "id": "5c8f782e-970c-434e-9806-0cc454f6f5a3",
   "metadata": {},
   "outputs": [],
   "source": [
    "z = np.where(np.isnan(x), y, x)"
   ]
  },
  {
   "cell_type": "code",
   "execution_count": 67,
   "id": "3c3e2066-567c-4c3c-bc73-9c5b5acc6469",
   "metadata": {},
   "outputs": [
    {
     "data": {
      "text/plain": [
       "1.0    992\n",
       "2.0    135\n",
       "3.0     93\n",
       "dtype: int64"
      ]
     },
     "execution_count": 67,
     "metadata": {},
     "output_type": "execute_result"
    }
   ],
   "source": []
  },
  {
   "cell_type": "code",
   "execution_count": null,
   "id": "662dc964-afa2-44df-9a7d-e2862144bd7d",
   "metadata": {},
   "outputs": [],
   "source": []
  },
  {
   "cell_type": "code",
   "execution_count": null,
   "id": "f4a368bf-2963-4c9e-952f-e57ee5e375f4",
   "metadata": {},
   "outputs": [],
   "source": []
  },
  {
   "cell_type": "code",
   "execution_count": null,
   "id": "27d3c23d-2a1a-440e-9fae-8196c5104db5",
   "metadata": {},
   "outputs": [],
   "source": [
    "def get_city(text):    \n",
    "        \n",
    "    try:\n",
    "        city = list(re.findall(r\"(?=(\"+'|'.join(cities_list)+r\"))\", text)[0])[0]\n",
    "        \n",
    "        # print(text, list(re.findall(r\"(?=(\"+'|'.join(cities_list)+r\"))\", text)[0])[0], '\\n\\n')\n",
    "        return cities_list.index(city)\n",
    "\n",
    "    except:\n",
    "        return cities_list.index('city_missing')"
   ]
  },
  {
   "cell_type": "code",
   "execution_count": 110,
   "id": "dfcc1cf6-8cc3-4b5a-b6e1-5b48d2cbdce7",
   "metadata": {},
   "outputs": [],
   "source": [
    "import re\n",
    "\n",
    "with open('utils/states.txt', 'r') as f:\n",
    "    states = f.read()\n",
    "    states_list = states.split(',')\n",
    "f.close()\n",
    "\n",
    "def get_states(text):\n",
    "    try:\n",
    "        state = re.findall(r\"(?=(\"+'|'.join(states_list)+r\"))\", text)[0]\n",
    "        # print(text, re.findall(r\"(?=(\"+'|'.join(states_list)+r\"))\", text)[0], '\\n\\n')\n",
    "        return states_list.index(state)\n",
    "\n",
    "    except:\n",
    "        return states_list.index('State_missing')\n",
    "    "
   ]
  },
  {
   "cell_type": "code",
   "execution_count": 111,
   "id": "bb4dedf5-c4b2-4b79-83fc-8093e5600bb1",
   "metadata": {},
   "outputs": [],
   "source": [
    "df['Location'] = df['Location'].str.lower()"
   ]
  },
  {
   "cell_type": "code",
   "execution_count": 112,
   "id": "dbc86dc2-eb36-42d5-b0d2-8d94ab33b415",
   "metadata": {},
   "outputs": [
    {
     "name": "stdout",
     "output_type": "stream",
     "text": [
      "0.09812259674072266\n"
     ]
    }
   ],
   "source": [
    "start_time = time.time()\n",
    "x = df['Location'].apply(get_states)\n",
    "print(time.time() - start_time)"
   ]
  },
  {
   "cell_type": "code",
   "execution_count": null,
   "id": "a53dd1cf-a406-43ad-bbd7-d6f3098e8e6f",
   "metadata": {},
   "outputs": [],
   "source": []
  },
  {
   "cell_type": "code",
   "execution_count": null,
   "id": "9d75ba22-764a-4ae6-8372-e123d3187538",
   "metadata": {},
   "outputs": [],
   "source": []
  },
  {
   "cell_type": "code",
   "execution_count": 2,
   "id": "a0a6a41d-bcd3-44f0-8079-29cf473ff432",
   "metadata": {},
   "outputs": [
    {
     "name": "stdout",
     "output_type": "stream",
     "text": [
      "--- Total time taken 16.36828327178955 seconds ---\n"
     ]
    },
    {
     "data": {
      "text/html": [
       "<div>\n",
       "<style scoped>\n",
       "    .dataframe tbody tr th:only-of-type {\n",
       "        vertical-align: middle;\n",
       "    }\n",
       "\n",
       "    .dataframe tbody tr th {\n",
       "        vertical-align: top;\n",
       "    }\n",
       "\n",
       "    .dataframe thead th {\n",
       "        text-align: right;\n",
       "    }\n",
       "</style>\n",
       "<table border=\"1\" class=\"dataframe\">\n",
       "  <thead>\n",
       "    <tr style=\"text-align: right;\">\n",
       "      <th></th>\n",
       "      <th>Job_position</th>\n",
       "      <th>Company</th>\n",
       "      <th>requirements</th>\n",
       "      <th>rating</th>\n",
       "      <th>experience</th>\n",
       "      <th>avg_yearly_sal</th>\n",
       "      <th>work_category</th>\n",
       "      <th>education_level</th>\n",
       "      <th>job_title</th>\n",
       "      <th>State</th>\n",
       "      <th>Cities</th>\n",
       "    </tr>\n",
       "  </thead>\n",
       "  <tbody>\n",
       "    <tr>\n",
       "      <th>0</th>\n",
       "      <td>junior software developer</td>\n",
       "      <td>gather network</td>\n",
       "      <td>actively looking fresher want start career blo...</td>\n",
       "      <td>NaN</td>\n",
       "      <td></td>\n",
       "      <td>240000.0</td>\n",
       "      <td>0</td>\n",
       "      <td>NaN</td>\n",
       "      <td>0</td>\n",
       "      <td>38</td>\n",
       "      <td>1222</td>\n",
       "    </tr>\n",
       "    <tr>\n",
       "      <th>1</th>\n",
       "      <td>big data developer</td>\n",
       "      <td>agile placement</td>\n",
       "      <td>strong knowledge programming scripting languag...</td>\n",
       "      <td>NaN</td>\n",
       "      <td>total work year</td>\n",
       "      <td>950000.0</td>\n",
       "      <td>0</td>\n",
       "      <td>NaN</td>\n",
       "      <td>0</td>\n",
       "      <td>38</td>\n",
       "      <td>1222</td>\n",
       "    </tr>\n",
       "    <tr>\n",
       "      <th>2</th>\n",
       "      <td>data scientist</td>\n",
       "      <td>client placeelements hr</td>\n",
       "      <td>experience working closely data analyst involv...</td>\n",
       "      <td>NaN</td>\n",
       "      <td>python algorithm statistic yeardata scientist ...</td>\n",
       "      <td>750000.0</td>\n",
       "      <td>0</td>\n",
       "      <td>1.0</td>\n",
       "      <td>0</td>\n",
       "      <td>38</td>\n",
       "      <td>133</td>\n",
       "    </tr>\n",
       "    <tr>\n",
       "      <th>3</th>\n",
       "      <td>software engineer machine learning engineer</td>\n",
       "      <td>siemens technology service private limited</td>\n",
       "      <td>experience machine learning architecture compu...</td>\n",
       "      <td>4.0</td>\n",
       "      <td></td>\n",
       "      <td>0.0</td>\n",
       "      <td>0</td>\n",
       "      <td>NaN</td>\n",
       "      <td>0</td>\n",
       "      <td>38</td>\n",
       "      <td>1222</td>\n",
       "    </tr>\n",
       "    <tr>\n",
       "      <th>4</th>\n",
       "      <td>machine learning fullstack sadhashiva nagar ba...</td>\n",
       "      <td>teqlinx software solution llc</td>\n",
       "      <td>extremely strong programming background data s...</td>\n",
       "      <td>NaN</td>\n",
       "      <td></td>\n",
       "      <td>3000000.0</td>\n",
       "      <td>0</td>\n",
       "      <td>NaN</td>\n",
       "      <td>0</td>\n",
       "      <td>38</td>\n",
       "      <td>1222</td>\n",
       "    </tr>\n",
       "    <tr>\n",
       "      <th>...</th>\n",
       "      <td>...</td>\n",
       "      <td>...</td>\n",
       "      <td>...</td>\n",
       "      <td>...</td>\n",
       "      <td>...</td>\n",
       "      <td>...</td>\n",
       "      <td>...</td>\n",
       "      <td>...</td>\n",
       "      <td>...</td>\n",
       "      <td>...</td>\n",
       "      <td>...</td>\n",
       "    </tr>\n",
       "    <tr>\n",
       "      <th>7921</th>\n",
       "      <td>senior software development engineer</td>\n",
       "      <td>larsen toubro infotech limited</td>\n",
       "      <td>need year computer science degree comparable e...</td>\n",
       "      <td>3.7</td>\n",
       "      <td></td>\n",
       "      <td>0.0</td>\n",
       "      <td>0</td>\n",
       "      <td>NaN</td>\n",
       "      <td>0</td>\n",
       "      <td>10</td>\n",
       "      <td>2</td>\n",
       "    </tr>\n",
       "    <tr>\n",
       "      <th>7922</th>\n",
       "      <td>tosca automation testing</td>\n",
       "      <td>larsen toubro infotech limited</td>\n",
       "      <td>strong experience knowledge automation testing...</td>\n",
       "      <td>3.7</td>\n",
       "      <td></td>\n",
       "      <td>0.0</td>\n",
       "      <td>0</td>\n",
       "      <td>NaN</td>\n",
       "      <td>0</td>\n",
       "      <td>10</td>\n",
       "      <td>2</td>\n",
       "    </tr>\n",
       "    <tr>\n",
       "      <th>7923</th>\n",
       "      <td>java backend developer</td>\n",
       "      <td>advance auto parts</td>\n",
       "      <td>advance auto part advance auto part inc leadin...</td>\n",
       "      <td>3.4</td>\n",
       "      <td></td>\n",
       "      <td>0.0</td>\n",
       "      <td>0</td>\n",
       "      <td>2.0</td>\n",
       "      <td>0</td>\n",
       "      <td>23</td>\n",
       "      <td>4</td>\n",
       "    </tr>\n",
       "    <tr>\n",
       "      <th>7924</th>\n",
       "      <td>aem developer</td>\n",
       "      <td>larsen toubro infotech limited</td>\n",
       "      <td>job title aem developer experience yr location...</td>\n",
       "      <td>3.7</td>\n",
       "      <td></td>\n",
       "      <td>0.0</td>\n",
       "      <td>0</td>\n",
       "      <td>NaN</td>\n",
       "      <td>0</td>\n",
       "      <td>23</td>\n",
       "      <td>4</td>\n",
       "    </tr>\n",
       "    <tr>\n",
       "      <th>7925</th>\n",
       "      <td>application developer</td>\n",
       "      <td>lenovo india private limited</td>\n",
       "      <td>description requirement jobdescription role re...</td>\n",
       "      <td>3.9</td>\n",
       "      <td></td>\n",
       "      <td>0.0</td>\n",
       "      <td>0</td>\n",
       "      <td>1.0</td>\n",
       "      <td>0</td>\n",
       "      <td>10</td>\n",
       "      <td>2</td>\n",
       "    </tr>\n",
       "  </tbody>\n",
       "</table>\n",
       "<p>7926 rows × 11 columns</p>\n",
       "</div>"
      ],
      "text/plain": [
       "                                           Job_position  \\\n",
       "0                             junior software developer   \n",
       "1                                    big data developer   \n",
       "2                                        data scientist   \n",
       "3           software engineer machine learning engineer   \n",
       "4     machine learning fullstack sadhashiva nagar ba...   \n",
       "...                                                 ...   \n",
       "7921               senior software development engineer   \n",
       "7922                           tosca automation testing   \n",
       "7923                             java backend developer   \n",
       "7924                                      aem developer   \n",
       "7925                              application developer   \n",
       "\n",
       "                                         Company  \\\n",
       "0                                 gather network   \n",
       "1                                agile placement   \n",
       "2                        client placeelements hr   \n",
       "3     siemens technology service private limited   \n",
       "4                  teqlinx software solution llc   \n",
       "...                                          ...   \n",
       "7921              larsen toubro infotech limited   \n",
       "7922              larsen toubro infotech limited   \n",
       "7923                          advance auto parts   \n",
       "7924              larsen toubro infotech limited   \n",
       "7925                lenovo india private limited   \n",
       "\n",
       "                                           requirements  rating  \\\n",
       "0     actively looking fresher want start career blo...     NaN   \n",
       "1     strong knowledge programming scripting languag...     NaN   \n",
       "2     experience working closely data analyst involv...     NaN   \n",
       "3     experience machine learning architecture compu...     4.0   \n",
       "4     extremely strong programming background data s...     NaN   \n",
       "...                                                 ...     ...   \n",
       "7921  need year computer science degree comparable e...     3.7   \n",
       "7922  strong experience knowledge automation testing...     3.7   \n",
       "7923  advance auto part advance auto part inc leadin...     3.4   \n",
       "7924  job title aem developer experience yr location...     3.7   \n",
       "7925  description requirement jobdescription role re...     3.9   \n",
       "\n",
       "                                             experience  avg_yearly_sal  \\\n",
       "0                                                              240000.0   \n",
       "1                                       total work year        950000.0   \n",
       "2     python algorithm statistic yeardata scientist ...        750000.0   \n",
       "3                                                                   0.0   \n",
       "4                                                             3000000.0   \n",
       "...                                                 ...             ...   \n",
       "7921                                                                0.0   \n",
       "7922                                                                0.0   \n",
       "7923                                                                0.0   \n",
       "7924                                                                0.0   \n",
       "7925                                                                0.0   \n",
       "\n",
       "      work_category  education_level  job_title  State  Cities  \n",
       "0                 0              NaN          0     38    1222  \n",
       "1                 0              NaN          0     38    1222  \n",
       "2                 0              1.0          0     38     133  \n",
       "3                 0              NaN          0     38    1222  \n",
       "4                 0              NaN          0     38    1222  \n",
       "...             ...              ...        ...    ...     ...  \n",
       "7921              0              NaN          0     10       2  \n",
       "7922              0              NaN          0     10       2  \n",
       "7923              0              2.0          0     23       4  \n",
       "7924              0              NaN          0     23       4  \n",
       "7925              0              1.0          0     10       2  \n",
       "\n",
       "[7926 rows x 11 columns]"
      ]
     },
     "execution_count": 2,
     "metadata": {},
     "output_type": "execute_result"
    }
   ],
   "source": [
    "temp_df = df.copy()\n",
    "Preprocess()(temp_df)"
   ]
  },
  {
   "cell_type": "code",
   "execution_count": null,
   "id": "09a91ea7-ea6c-4267-baa0-b5ae6b249334",
   "metadata": {},
   "outputs": [],
   "source": []
  },
  {
   "cell_type": "code",
   "execution_count": null,
   "id": "509ad612-eeb4-40f1-be3f-09f25032b222",
   "metadata": {},
   "outputs": [],
   "source": []
  },
  {
   "cell_type": "code",
   "execution_count": 3,
   "id": "ed1b95b6-375b-4fbd-ad27-f98605549395",
   "metadata": {},
   "outputs": [
    {
     "data": {
      "text/plain": [
       "0                                        Gather Network\n",
       "1                                       Agile Placement\n",
       "2                            Client of PlaceElements HR\n",
       "3       Siemens Technology and Services Private Limited\n",
       "4                        Teqlinx Software Solutions LLC\n",
       "                             ...                       \n",
       "7921               larsen & toubro infotech limiteds , \n",
       "7922               larsen & toubro infotech limiteds , \n",
       "7923                             advance auto partss , \n",
       "7924               larsen & toubro infotech limiteds , \n",
       "7925                   lenovo india private limiteds , \n",
       "Name: Company, Length: 7926, dtype: object"
      ]
     },
     "execution_count": 3,
     "metadata": {},
     "output_type": "execute_result"
    }
   ],
   "source": []
  },
  {
   "cell_type": "code",
   "execution_count": 18,
   "id": "4aec8dfa-a414-4914-b523-7aa1cc6f9dca",
   "metadata": {},
   "outputs": [],
   "source": []
  },
  {
   "cell_type": "code",
   "execution_count": 42,
   "id": "038c39ef-c883-49a4-9989-66d5a09abdd2",
   "metadata": {},
   "outputs": [
    {
     "data": {
      "text/plain": [
       "2       2176\n",
       "4        935\n",
       "63       711\n",
       "1        687\n",
       "1222     652\n",
       "        ... \n",
       "73         1\n",
       "169        1\n",
       "341        1\n",
       "123        1\n",
       "945        1\n",
       "Name: Cities, Length: 101, dtype: int64"
      ]
     },
     "execution_count": 42,
     "metadata": {},
     "output_type": "execute_result"
    }
   ],
   "source": []
  },
  {
   "cell_type": "code",
   "execution_count": null,
   "id": "eb1c97df-e889-4899-a37a-161fb89fb152",
   "metadata": {},
   "outputs": [],
   "source": []
  },
  {
   "cell_type": "code",
   "execution_count": null,
   "id": "1fef6982-c4e5-42eb-8b20-4cff8215b6ef",
   "metadata": {},
   "outputs": [],
   "source": []
  },
  {
   "cell_type": "code",
   "execution_count": null,
   "id": "8ad08454-a98b-406e-905f-9973dfa3ad4d",
   "metadata": {},
   "outputs": [],
   "source": []
  },
  {
   "cell_type": "code",
   "execution_count": null,
   "id": "feb4494d-0399-4e95-b6bd-cbffff083f05",
   "metadata": {},
   "outputs": [],
   "source": []
  },
  {
   "cell_type": "code",
   "execution_count": 3,
   "id": "59b4ce3a",
   "metadata": {},
   "outputs": [
    {
     "name": "stderr",
     "output_type": "stream",
     "text": [
      "[nltk_data] Downloading package stopwords to /home/krish/nltk_data...\n",
      "[nltk_data]   Package stopwords is already up-to-date!\n",
      "[nltk_data] Downloading package punkt to /home/krish/nltk_data...\n",
      "[nltk_data]   Package punkt is already up-to-date!\n",
      "[nltk_data] Downloading package wordnet to /home/krish/nltk_data...\n",
      "[nltk_data]   Package wordnet is already up-to-date!\n"
     ]
    },
    {
     "name": "stdout",
     "output_type": "stream",
     "text": [
      "Loading in word vectors...\n",
      "Finished loading in word vectors\n",
      "Numer of samples with no words found: 0 / 818\n",
      "Numer of samples with no words found: 1 / 1824\n",
      "Loading in word vectors...\n",
      "Finished loading in word vectors\n",
      "Numer of samples with no words found: 101 / 818\n",
      "Numer of samples with no words found: 231 / 1824\n",
      "Loading in word vectors...\n",
      "Finished loading in word vectors\n",
      "Numer of samples with no words found: 0 / 818\n",
      "Numer of samples with no words found: 0 / 1824\n"
     ]
    },
    {
     "name": "stderr",
     "output_type": "stream",
     "text": [
      "/tmp/ipykernel_56590/2932749352.py:43: SettingWithCopyWarning: \n",
      "A value is trying to be set on a copy of a slice from a DataFrame.\n",
      "Try using .loc[row_indexer,col_indexer] = value instead\n",
      "\n",
      "See the caveats in the documentation: https://pandas.pydata.org/pandas-docs/stable/user_guide/indexing.html#returning-a-view-versus-a-copy\n",
      "  test['rating'] = np.round(test_ratings, 2)\n"
     ]
    }
   ],
   "source": [
    "\n",
    "\"\"\"#Calculating missing ratings\"\"\"\n",
    "\n",
    "temp_df = df[df['avg_yearly_sal']>0]\n",
    "temp_df.reset_index(drop=True, inplace=True)\n",
    "train = temp_df[~temp_df['rating'].isnull()]\n",
    "test = temp_df[temp_df['rating'].isnull()]\n",
    "train_set = train.drop(['rating', 'avg_yearly_sal'], axis=1)\n",
    "y_train = train['rating']\n",
    "test_set = test.drop(['rating', 'avg_yearly_sal'], axis=1)\n",
    "\n",
    "\"\"\"#Glove Embeddings\"\"\"\n",
    "\n",
    "from utils.nlp_utils import Word2VecVectorizer\n",
    "from gensim.models import KeyedVectors\n",
    "\n",
    "import gensim\n",
    "gensim.__version__\n",
    "\n",
    "# load GloVe model\n",
    "filename = 'utils/vector.kv'\n",
    "model = KeyedVectors.load(filename)\n",
    "\n",
    "rating_train = train_set.select_dtypes(exclude='object').values\n",
    "rating_test = test_set.select_dtypes(exclude='object').values\n",
    "\n",
    "def glove_embedded(X_train, col, X_test, rating_train, rating_test):\n",
    "\n",
    "  vectorizer = Word2VecVectorizer(model)\n",
    "\n",
    "  X_train_embed = vectorizer.fit_transform(X_train[col].apply(str))\n",
    "  X_test_embed = vectorizer.transform(X_test[col].apply(str))\n",
    "  \n",
    "  rating_train = np.concatenate((X_train_embed, rating_train), axis=1)\n",
    "  rating_test = np.concatenate((X_test_embed, rating_test), axis=1)\n",
    "  \n",
    "  return rating_train, rating_test\n",
    "\n",
    "\n",
    "for col in test_set.select_dtypes(include='object').columns:\n",
    "  rating_train, rating_test = glove_embedded(train_set, col, test_set, rating_train, rating_test)\n",
    "\n",
    "from xgboost import XGBRegressor\n",
    "rating_model = XGBRegressor(objective='reg:squarederror', random_state=42)\n",
    "rating_model.fit(rating_train, y_train)\n",
    "\n",
    "#import pickle \n",
    "#filename = 'rating_model.sav'\n",
    "#pickle.dump(rating_model, open(filename, 'wb'))\n",
    "\n",
    "test_ratings = rating_model.predict(rating_test)\n",
    "\n",
    "#add missing ratings to test dataset\n",
    "test['rating'] = np.round(test_ratings, 2)\n",
    "\n",
    "#combing train and test to form dataset\n",
    "final_df = pd.concat([train, test], axis=0)\n",
    "final_df.sort_index(inplace=True)\n"
   ]
  },
  {
   "cell_type": "code",
   "execution_count": 5,
   "id": "d17cd211",
   "metadata": {},
   "outputs": [
    {
     "name": "stdout",
     "output_type": "stream",
     "text": [
      "Loading in word vectors...\n",
      "Finished loading in word vectors\n",
      "Numer of samples with no words found: 0 / 818\n",
      "Numer of samples with no words found: 1 / 1824\n",
      "Loading in word vectors...\n",
      "Finished loading in word vectors\n",
      "Numer of samples with no words found: 101 / 818\n",
      "Numer of samples with no words found: 231 / 1824\n",
      "Loading in word vectors...\n",
      "Finished loading in word vectors\n",
      "Numer of samples with no words found: 0 / 818\n",
      "Numer of samples with no words found: 0 / 1824\n"
     ]
    },
    {
     "name": "stderr",
     "output_type": "stream",
     "text": [
      "/tmp/ipykernel_56590/1454807039.py:47: SettingWithCopyWarning: \n",
      "A value is trying to be set on a copy of a slice from a DataFrame.\n",
      "Try using .loc[row_indexer,col_indexer] = value instead\n",
      "\n",
      "See the caveats in the documentation: https://pandas.pydata.org/pandas-docs/stable/user_guide/indexing.html#returning-a-view-versus-a-copy\n",
      "  test['net_experience'] = np.round(test_experience, 2)\n"
     ]
    }
   ],
   "source": [
    "\"\"\"#Calculating missing net experience\"\"\"\n",
    "\n",
    "train = temp_df[~temp_df['net_experience'].isnull()]\n",
    "test = temp_df[temp_df['net_experience'].isnull()]\n",
    "\n",
    "train_indices = train.index.values\n",
    "test_indices = test.index.values\n",
    "\n",
    "train_set = train.drop(['net_experience', 'avg_yearly_sal'], axis=1)\n",
    "y_train = train['net_experience']\n",
    "test_set = test.drop(['net_experience', 'avg_yearly_sal'], axis=1)\n",
    "\n",
    "\n",
    "#here we will apply glove embeddings on all text columns and concatenate them and them concatenate them along with numerical columns\n",
    "\"***Glove Embeddings***\"\n",
    "\n",
    "experience_train = train_set.select_dtypes(exclude='object').values\n",
    "experience_test = test_set.select_dtypes(exclude='object').values\n",
    "\n",
    "def glove_embedded(X_train, col, X_test, experience_train, experience_test):\n",
    "  \n",
    "  vectorizer = Word2VecVectorizer(model)\n",
    "\n",
    "  X_train_embed = vectorizer.fit_transform(X_train[col].apply(str))\n",
    "  X_test_embed = vectorizer.transform(X_test[col].apply(str))\n",
    "  \n",
    "  experience_train = np.concatenate((X_train_embed, experience_train), axis=1)\n",
    "  experience_test = np.concatenate((X_test_embed, experience_test), axis=1)\n",
    "  \n",
    "  return experience_train, experience_test\n",
    "\n",
    "\n",
    "for col in test_set.select_dtypes(include='object').columns:\n",
    "  experience_train, experience_test = glove_embedded(train_set, col, test_set, experience_train, experience_test)\n",
    "\n",
    "\n",
    "#will use xgboost to predict missing values\n",
    "experience_model = XGBRegressor(objective= 'reg:squarederror', random_state=42)\n",
    "experience_model.fit(experience_train, y_train)\n",
    "\n",
    "\n",
    "#import pickle \n",
    "#filename = 'experience_model.sav'\n",
    "#pickle.dump(experience_model, open(filename, 'wb'))\n",
    "\n",
    "test_experience = experience_model.predict(experience_test)\n",
    "test['net_experience'] = np.round(test_experience, 2)\n",
    "\n",
    "\n",
    "temp = pd.concat([train, test], axis=0).sort_index()\n",
    "\n",
    "final_df['net_experience'] = temp['net_experience']\n"
   ]
  },
  {
   "cell_type": "code",
   "execution_count": null,
   "id": "b2ed84a1",
   "metadata": {},
   "outputs": [],
   "source": []
  },
  {
   "cell_type": "code",
   "execution_count": 4,
   "id": "51acfc67-0a09-4a89-94d0-bad2291da5e0",
   "metadata": {},
   "outputs": [
    {
     "name": "stdout",
     "output_type": "stream",
     "text": [
      "Loading in word vectors...\n",
      "Finished loading in word vectors\n",
      "Numer of samples with no words found: 1 / 2642\n",
      "Loading in word vectors...\n",
      "Finished loading in word vectors\n",
      "Numer of samples with no words found: 332 / 2642\n",
      "Loading in word vectors...\n",
      "Finished loading in word vectors\n",
      "Numer of samples with no words found: 0 / 2642\n"
     ]
    }
   ],
   "source": [
    "\n",
    "\n",
    "\"\"\"#Create Dataset for Model building\"\"\"\n",
    "\n",
    "final_df = final_df[(~final_df['avg_yearly_sal'].isnull()) & (final_df['avg_yearly_sal'] > 0)]\n",
    "\n",
    "final_df['avg_yearly_sal'] = final_df['avg_yearly_sal'].apply(lambda x: np.log(x))\n",
    "\n",
    "X = final_df.drop('avg_yearly_sal', axis=1)\n",
    "y = final_df['avg_yearly_sal']\n",
    "\n",
    "\n",
    "\n",
    "\"***To train on entire dataset***\"\n",
    "train_ans = X.select_dtypes(exclude='object').values\n",
    "\n",
    "def glove_embedded(X, col,train_ans):\n",
    "  \n",
    "  vectorizer = Word2VecVectorizer(model)\n",
    "  X_embed = vectorizer.fit_transform(X[col].apply(str))\n",
    "  train_ans = np.concatenate((X_embed, train_ans), axis=1)\n",
    "  \n",
    "  return train_ans\n",
    "\n",
    "\n",
    "for col in X.select_dtypes(include='object').columns:\n",
    "  train_ans = glove_embedded(X, col,train_ans)"
   ]
  },
  {
   "cell_type": "code",
   "execution_count": null,
   "id": "be2a6e64",
   "metadata": {},
   "outputs": [],
   "source": []
  },
  {
   "cell_type": "code",
   "execution_count": 8,
   "id": "4b28b564",
   "metadata": {},
   "outputs": [],
   "source": []
  },
  {
   "cell_type": "code",
   "execution_count": 14,
   "id": "ffa88755-d524-43b0-853a-b88c22453572",
   "metadata": {},
   "outputs": [
    {
     "data": {
      "text/plain": [
       "(2642, 100)"
      ]
     },
     "execution_count": 14,
     "metadata": {},
     "output_type": "execute_result"
    }
   ],
   "source": [
    "train_ans[:, :100].shape"
   ]
  },
  {
   "cell_type": "code",
   "execution_count": null,
   "id": "6a2a0396-c5ce-43ed-b1e1-cbaba5a3d97d",
   "metadata": {},
   "outputs": [],
   "source": []
  },
  {
   "cell_type": "code",
   "execution_count": 2,
   "id": "10cf8de1-1a8a-4c67-8e53-9c40e2b60dbd",
   "metadata": {},
   "outputs": [
    {
     "data": {
      "text/plain": [
       "(2642, 159)"
      ]
     },
     "execution_count": 2,
     "metadata": {},
     "output_type": "execute_result"
    }
   ],
   "source": [
    "train_ans.shape"
   ]
  },
  {
   "cell_type": "code",
   "execution_count": 3,
   "id": "fd19a171-5830-46bc-8d83-da04d42408c6",
   "metadata": {},
   "outputs": [],
   "source": [
    "data = {'Job_position': '1 ', 'Company': 'Google', 'Location': 'mumbai', 'requirements': 'Software Developer: C++', 'rating': '4.5', 'experience': '1', 'posting_frequency': '5'}\n"
   ]
  },
  {
   "cell_type": "code",
   "execution_count": 5,
   "id": "873b8f05-f68d-47b5-adc0-efa9a14c122e",
   "metadata": {},
   "outputs": [],
   "source": [
    "columns = ['Job_position', 'Company', 'Location', 'requirements', 'rating', 'experience', 'posting_frequency']\n",
    "input_df = pd.DataFrame(columns = columns)"
   ]
  },
  {
   "cell_type": "code",
   "execution_count": 6,
   "id": "7df6bdd2-359b-4843-8c68-3f40067e8274",
   "metadata": {},
   "outputs": [],
   "source": [
    "for key in data.keys():\n",
    "    input_df.loc[0, key] = data[key]"
   ]
  },
  {
   "cell_type": "code",
   "execution_count": 7,
   "id": "775b4d42-70e5-4910-96c7-4e7fb5c0e7d9",
   "metadata": {},
   "outputs": [
    {
     "data": {
      "text/html": [
       "<div>\n",
       "<style scoped>\n",
       "    .dataframe tbody tr th:only-of-type {\n",
       "        vertical-align: middle;\n",
       "    }\n",
       "\n",
       "    .dataframe tbody tr th {\n",
       "        vertical-align: top;\n",
       "    }\n",
       "\n",
       "    .dataframe thead th {\n",
       "        text-align: right;\n",
       "    }\n",
       "</style>\n",
       "<table border=\"1\" class=\"dataframe\">\n",
       "  <thead>\n",
       "    <tr style=\"text-align: right;\">\n",
       "      <th></th>\n",
       "      <th>Job_position</th>\n",
       "      <th>Company</th>\n",
       "      <th>Location</th>\n",
       "      <th>requirements</th>\n",
       "      <th>rating</th>\n",
       "      <th>experience</th>\n",
       "      <th>posting_frequency</th>\n",
       "    </tr>\n",
       "  </thead>\n",
       "  <tbody>\n",
       "    <tr>\n",
       "      <th>0</th>\n",
       "      <td>1</td>\n",
       "      <td>Google</td>\n",
       "      <td>mumbai</td>\n",
       "      <td>Software Developer: C++</td>\n",
       "      <td>4.5</td>\n",
       "      <td>1</td>\n",
       "      <td>5</td>\n",
       "    </tr>\n",
       "  </tbody>\n",
       "</table>\n",
       "</div>"
      ],
      "text/plain": [
       "  Job_position Company Location             requirements rating experience  \\\n",
       "0           1   Google   mumbai  Software Developer: C++    4.5          1   \n",
       "\n",
       "  posting_frequency  \n",
       "0                 5  "
      ]
     },
     "execution_count": 7,
     "metadata": {},
     "output_type": "execute_result"
    }
   ],
   "source": [
    "input_df"
   ]
  },
  {
   "cell_type": "code",
   "execution_count": null,
   "id": "59073283-9ebf-4258-830a-5c6b7fde8447",
   "metadata": {},
   "outputs": [],
   "source": [
    "\n",
    "#Train on entire dataset\n",
    "from lightgbm import LGBMRegressor\n",
    "lgbreg = LGBMRegressor(random_state=42)\n",
    "lgbreg.fit(train_ans, y)\n",
    "\n",
    "\n",
    "import pickle \n",
    "filename = 'model_building/lgbreg.sav'\n",
    "pickle.dump(lgbreg, open(filename, 'wb'))\n",
    "\n",
    "\n"
   ]
  },
  {
   "cell_type": "code",
   "execution_count": 10,
   "id": "98406766-8ec1-4508-9686-bc1d88eeb909",
   "metadata": {},
   "outputs": [
    {
     "data": {
      "text/plain": [
       "2779"
      ]
     },
     "execution_count": 10,
     "metadata": {},
     "output_type": "execute_result"
    }
   ],
   "source": []
  },
  {
   "cell_type": "code",
   "execution_count": null,
   "id": "bb4ae7ce-e920-462f-889f-d41caac49599",
   "metadata": {},
   "outputs": [],
   "source": []
  }
 ],
 "metadata": {
  "kernelspec": {
   "display_name": "Python 3 (ipykernel)",
   "language": "python",
   "name": "python3"
  },
  "language_info": {
   "codemirror_mode": {
    "name": "ipython",
    "version": 3
   },
   "file_extension": ".py",
   "mimetype": "text/x-python",
   "name": "python",
   "nbconvert_exporter": "python",
   "pygments_lexer": "ipython3",
   "version": "3.8.0"
  },
  "vscode": {
   "interpreter": {
    "hash": "487248b036d8f6f79c5b307b8112060a4f67c9b5a2817051715680d52d458d74"
   }
  }
 },
 "nbformat": 4,
 "nbformat_minor": 5
}
