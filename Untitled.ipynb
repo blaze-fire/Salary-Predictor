{
 "cells": [
  {
   "cell_type": "code",
   "execution_count": 13,
   "id": "096e1b28-92bc-48ae-a583-bc0191957c30",
   "metadata": {},
   "outputs": [],
   "source": [
    "import pandas as pd\n",
    "import numpy as np\n",
    "from utils.temp_clean_utils import Preprocess\n",
    "\n",
    "raw_df = pd.read_csv('./data/old data/raw_data.csv')"
   ]
  },
  {
   "cell_type": "code",
   "execution_count": 14,
   "id": "e91b0bd3-1009-4a4c-93b5-fac3414d75c4",
   "metadata": {},
   "outputs": [
    {
     "data": {
      "text/html": [
       "<div>\n",
       "<style scoped>\n",
       "    .dataframe tbody tr th:only-of-type {\n",
       "        vertical-align: middle;\n",
       "    }\n",
       "\n",
       "    .dataframe tbody tr th {\n",
       "        vertical-align: top;\n",
       "    }\n",
       "\n",
       "    .dataframe thead th {\n",
       "        text-align: right;\n",
       "    }\n",
       "</style>\n",
       "<table border=\"1\" class=\"dataframe\">\n",
       "  <thead>\n",
       "    <tr style=\"text-align: right;\">\n",
       "      <th></th>\n",
       "      <th>Job_position</th>\n",
       "      <th>Company</th>\n",
       "      <th>Location</th>\n",
       "      <th>Salary</th>\n",
       "      <th>posting_time</th>\n",
       "      <th>requirements</th>\n",
       "      <th>rating</th>\n",
       "      <th>experience</th>\n",
       "      <th>link</th>\n",
       "    </tr>\n",
       "  </thead>\n",
       "  <tbody>\n",
       "    <tr>\n",
       "      <th>0</th>\n",
       "      <td>Junior Software Developer\\nnew</td>\n",
       "      <td>Gather Network</td>\n",
       "      <td>Urban Estate Gurgaon, Haryana</td>\n",
       "      <td>\\n₹20,000 a month</td>\n",
       "      <td>7 days ago</td>\n",
       "      <td>We are actively looking for a few freshers who...</td>\n",
       "      <td>NaN</td>\n",
       "      <td>NaN</td>\n",
       "      <td>https://in.indeed.com//company/Gather-Network/...</td>\n",
       "    </tr>\n",
       "    <tr>\n",
       "      <th>1</th>\n",
       "      <td>Big Data Developer\\nnew</td>\n",
       "      <td>Agile Placement</td>\n",
       "      <td>Pune, Maharashtra</td>\n",
       "      <td>\\n₹5,00,000 - ₹14,00,000 a year</td>\n",
       "      <td>1 day ago</td>\n",
       "      <td>_Strong knowledge of programming and scripting...</td>\n",
       "      <td>NaN</td>\n",
       "      <td>Total work: 6 years</td>\n",
       "      <td>https://in.indeed.com//company/Agile-Placement...</td>\n",
       "    </tr>\n",
       "    <tr>\n",
       "      <th>2</th>\n",
       "      <td>Data Scientist\\nnew</td>\n",
       "      <td>Client of PlaceElements HR</td>\n",
       "      <td>Thiruvananthapuram, Kerala</td>\n",
       "      <td>\\n₹5,00,000 - ₹10,00,000 a year</td>\n",
       "      <td>Today</td>\n",
       "      <td>Experience in working closely with data analys...</td>\n",
       "      <td>NaN</td>\n",
       "      <td>Python: Algorithms: Statistics: 1 yearData Sci...</td>\n",
       "      <td>https://in.indeed.com//company/Client-of-Place...</td>\n",
       "    </tr>\n",
       "    <tr>\n",
       "      <th>3</th>\n",
       "      <td>Software Engineer - Machine Learning Engineer</td>\n",
       "      <td>Siemens Technology and Services Private Limited</td>\n",
       "      <td>Pune, Maharashtra</td>\n",
       "      <td>NaN</td>\n",
       "      <td>15 days ago</td>\n",
       "      <td>Experience with machine learning architectures...</td>\n",
       "      <td>\\n4.0\\n\\n\\n\\n\\n</td>\n",
       "      <td>NaN</td>\n",
       "      <td>https://in.indeed.com//rc/clk?jk=2f44fb584ca0c...</td>\n",
       "    </tr>\n",
       "    <tr>\n",
       "      <th>4</th>\n",
       "      <td>Machine Learning (Fullstack) at Sadhashiva Nag...</td>\n",
       "      <td>Teqlinx Software Solutions LLC</td>\n",
       "      <td>Bengaluru, Karnataka</td>\n",
       "      <td>\\n₹30,00,000 a year</td>\n",
       "      <td>8 days ago</td>\n",
       "      <td>• Extremely strong programming background – da...</td>\n",
       "      <td>NaN</td>\n",
       "      <td>NaN</td>\n",
       "      <td>https://in.indeed.com//company/Teqlinx-Softwar...</td>\n",
       "    </tr>\n",
       "  </tbody>\n",
       "</table>\n",
       "</div>"
      ],
      "text/plain": [
       "                                        Job_position  \\\n",
       "0                     Junior Software Developer\\nnew   \n",
       "1                            Big Data Developer\\nnew   \n",
       "2                                Data Scientist\\nnew   \n",
       "3      Software Engineer - Machine Learning Engineer   \n",
       "4  Machine Learning (Fullstack) at Sadhashiva Nag...   \n",
       "\n",
       "                                           Company  \\\n",
       "0                                   Gather Network   \n",
       "1                                  Agile Placement   \n",
       "2                       Client of PlaceElements HR   \n",
       "3  Siemens Technology and Services Private Limited   \n",
       "4                   Teqlinx Software Solutions LLC   \n",
       "\n",
       "                        Location                           Salary  \\\n",
       "0  Urban Estate Gurgaon, Haryana                \\n₹20,000 a month   \n",
       "1              Pune, Maharashtra  \\n₹5,00,000 - ₹14,00,000 a year   \n",
       "2     Thiruvananthapuram, Kerala  \\n₹5,00,000 - ₹10,00,000 a year   \n",
       "3              Pune, Maharashtra                              NaN   \n",
       "4           Bengaluru, Karnataka              \\n₹30,00,000 a year   \n",
       "\n",
       "  posting_time                                       requirements  \\\n",
       "0   7 days ago  We are actively looking for a few freshers who...   \n",
       "1    1 day ago  _Strong knowledge of programming and scripting...   \n",
       "2        Today  Experience in working closely with data analys...   \n",
       "3  15 days ago  Experience with machine learning architectures...   \n",
       "4   8 days ago  • Extremely strong programming background – da...   \n",
       "\n",
       "            rating                                         experience  \\\n",
       "0              NaN                                                NaN   \n",
       "1              NaN                                Total work: 6 years   \n",
       "2              NaN  Python: Algorithms: Statistics: 1 yearData Sci...   \n",
       "3  \\n4.0\\n\\n\\n\\n\\n                                                NaN   \n",
       "4              NaN                                                NaN   \n",
       "\n",
       "                                                link  \n",
       "0  https://in.indeed.com//company/Gather-Network/...  \n",
       "1  https://in.indeed.com//company/Agile-Placement...  \n",
       "2  https://in.indeed.com//company/Client-of-Place...  \n",
       "3  https://in.indeed.com//rc/clk?jk=2f44fb584ca0c...  \n",
       "4  https://in.indeed.com//company/Teqlinx-Softwar...  "
      ]
     },
     "execution_count": 14,
     "metadata": {},
     "output_type": "execute_result"
    }
   ],
   "source": [
    "raw_df.head()"
   ]
  },
  {
   "cell_type": "code",
   "execution_count": null,
   "id": "e109c6f9-38c3-4669-91bd-bcd7bcf94c75",
   "metadata": {},
   "outputs": [],
   "source": [
    "raw_df = Preprocess()(raw_df)"
   ]
  },
  {
   "cell_type": "code",
   "execution_count": 9,
   "id": "330b1555-6d1d-409f-92e1-9d584420dbe4",
   "metadata": {},
   "outputs": [
    {
     "data": {
      "text/plain": [
       "array(['nan', '4.0', '4.2', '4.1', '3.4', '3.9', '2.7', '3.3', '3.7',\n",
       "       '3.8', '4.4', '4.3', '3.6', '3.5', '3.2', '4.5', '5.0', '4.8',\n",
       "       '4.7', '3.0', '2.3', '2.0', '2.1', '2.5', '3.1', 'na', '4.9',\n",
       "       '2.8', '2.6', '1.7', '1.5', '4.6', '2.9', '2.4'], dtype=object)"
      ]
     },
     "execution_count": 9,
     "metadata": {},
     "output_type": "execute_result"
    }
   ],
   "source": []
  },
  {
   "cell_type": "code",
   "execution_count": null,
   "id": "30dc6a65-664b-41fa-b269-956dc2a99a3c",
   "metadata": {},
   "outputs": [],
   "source": []
  }
 ],
 "metadata": {
  "kernelspec": {
   "display_name": "Python 3 (ipykernel)",
   "language": "python",
   "name": "python3"
  },
  "language_info": {
   "codemirror_mode": {
    "name": "ipython",
    "version": 3
   },
   "file_extension": ".py",
   "mimetype": "text/x-python",
   "name": "python",
   "nbconvert_exporter": "python",
   "pygments_lexer": "ipython3",
   "version": "3.8.12"
  }
 },
 "nbformat": 4,
 "nbformat_minor": 5
}
