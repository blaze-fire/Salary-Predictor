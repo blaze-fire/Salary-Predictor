{
 "cells": [
  {
   "cell_type": "code",
   "execution_count": 1,
   "id": "19828db4-844e-4d25-8723-8656c5492011",
   "metadata": {},
   "outputs": [],
   "source": [
    "import sys\n",
    "if not sys.warnoptions:\n",
    "    import warnings\n",
    "    warnings.simplefilter(\"ignore\")"
   ]
  },
  {
   "cell_type": "code",
   "execution_count": 2,
   "id": "fb00c857-0c24-430e-a043-f62dc795a7ef",
   "metadata": {},
   "outputs": [],
   "source": [
    "import pandas as pd\n",
    "import numpy as np\n",
    "import matplotlib.pyplot as plt\n",
    "import seaborn as sns"
   ]
  },
  {
   "cell_type": "code",
   "execution_count": 3,
   "id": "54156197-6d24-4cfb-8aea-04e6b9bcbc91",
   "metadata": {},
   "outputs": [],
   "source": [
    "df = pd.read_csv(r'data/data_for_eda.csv')"
   ]
  },
  {
   "cell_type": "code",
   "execution_count": 4,
   "id": "7f4be5f4-b9fb-4fb4-bbb1-367298da32e2",
   "metadata": {},
   "outputs": [],
   "source": [
    "import pickle\n",
    "file = open(\"./utils/skill_dictionary\",'rb')\n",
    "skills_dict = pickle.load(file)\n",
    "file.close()"
   ]
  },
  {
   "cell_type": "code",
   "execution_count": 5,
   "id": "88b69ccf-c414-4189-85f6-dbd62379cbd0",
   "metadata": {},
   "outputs": [],
   "source": [
    "skill_df = pd.DataFrame.from_dict(skills_dict, orient='index', columns=['Frequency'])\n",
    "\n",
    "top_skills = skill_df.sort_values(by='Frequency', ascending=False)[:10]\n",
    "top_skills['skills'] = top_skills.index\n",
    "top_skills.set_index(np.arange(0,len(top_skills)), inplace=True)"
   ]
  },
  {
   "cell_type": "code",
   "execution_count": 6,
   "id": "050ecc45-8fce-416d-b26f-b652bfc8bb10",
   "metadata": {},
   "outputs": [],
   "source": [
    "skill_df['skills'] = skill_df.index\n",
    "skill_df.set_index(np.arange(0, len(skill_df)), inplace=True)"
   ]
  },
  {
   "cell_type": "code",
   "execution_count": 7,
   "id": "c44304a1-5a41-4623-8512-708450c65610",
   "metadata": {},
   "outputs": [],
   "source": [
    "skill_df['States'] = df['State']"
   ]
  },
  {
   "cell_type": "code",
   "execution_count": 8,
   "id": "0391c554-c300-4485-b88b-1dce8855b0f1",
   "metadata": {},
   "outputs": [
    {
     "data": {
      "text/html": [
       "<div>\n",
       "<style scoped>\n",
       "    .dataframe tbody tr th:only-of-type {\n",
       "        vertical-align: middle;\n",
       "    }\n",
       "\n",
       "    .dataframe tbody tr th {\n",
       "        vertical-align: top;\n",
       "    }\n",
       "\n",
       "    .dataframe thead th {\n",
       "        text-align: right;\n",
       "    }\n",
       "</style>\n",
       "<table border=\"1\" class=\"dataframe\">\n",
       "  <thead>\n",
       "    <tr style=\"text-align: right;\">\n",
       "      <th></th>\n",
       "      <th>Job_position</th>\n",
       "      <th>avg_yearly_sal</th>\n",
       "    </tr>\n",
       "  </thead>\n",
       "  <tbody>\n",
       "    <tr>\n",
       "      <th>1700</th>\n",
       "      <td>php</td>\n",
       "      <td>10200000.0</td>\n",
       "    </tr>\n",
       "    <tr>\n",
       "      <th>2234</th>\n",
       "      <td>java</td>\n",
       "      <td>9600000.0</td>\n",
       "    </tr>\n",
       "    <tr>\n",
       "      <th>593</th>\n",
       "      <td>app</td>\n",
       "      <td>6000000.0</td>\n",
       "    </tr>\n",
       "    <tr>\n",
       "      <th>890</th>\n",
       "      <td>stack nodejs docker sql</td>\n",
       "      <td>5285448.0</td>\n",
       "    </tr>\n",
       "    <tr>\n",
       "      <th>1361</th>\n",
       "      <td>mobile app</td>\n",
       "      <td>4440000.0</td>\n",
       "    </tr>\n",
       "    <tr>\n",
       "      <th>...</th>\n",
       "      <td>...</td>\n",
       "      <td>...</td>\n",
       "    </tr>\n",
       "    <tr>\n",
       "      <th>1952</th>\n",
       "      <td>flutter</td>\n",
       "      <td>18000.0</td>\n",
       "    </tr>\n",
       "    <tr>\n",
       "      <th>266</th>\n",
       "      <td>java</td>\n",
       "      <td>16500.0</td>\n",
       "    </tr>\n",
       "    <tr>\n",
       "      <th>36</th>\n",
       "      <td>nlp ai</td>\n",
       "      <td>12000.0</td>\n",
       "    </tr>\n",
       "    <tr>\n",
       "      <th>859</th>\n",
       "      <td>nlp ai</td>\n",
       "      <td>12000.0</td>\n",
       "    </tr>\n",
       "    <tr>\n",
       "      <th>1330</th>\n",
       "      <td>stack</td>\n",
       "      <td>9000.0</td>\n",
       "    </tr>\n",
       "  </tbody>\n",
       "</table>\n",
       "<p>973 rows × 2 columns</p>\n",
       "</div>"
      ],
      "text/plain": [
       "                 Job_position  avg_yearly_sal\n",
       "1700                      php      10200000.0\n",
       "2234                     java       9600000.0\n",
       "593                       app       6000000.0\n",
       "890   stack nodejs docker sql       5285448.0\n",
       "1361               mobile app       4440000.0\n",
       "...                       ...             ...\n",
       "1952                  flutter         18000.0\n",
       "266                      java         16500.0\n",
       "36                     nlp ai         12000.0\n",
       "859                    nlp ai         12000.0\n",
       "1330                    stack          9000.0\n",
       "\n",
       "[973 rows x 2 columns]"
      ]
     },
     "execution_count": 8,
     "metadata": {},
     "output_type": "execute_result"
    }
   ],
   "source": [
    "df[(df['avg_yearly_sal'] != 0) & (df['Job_position'] != 'na')][['Job_position', 'avg_yearly_sal']].sort_values(by=['avg_yearly_sal'], ascending=False)"
   ]
  },
  {
   "cell_type": "code",
   "execution_count": 9,
   "id": "4c9417a0-3c90-4dd0-834b-d825530a68d4",
   "metadata": {},
   "outputs": [],
   "source": [
    "text = \"The IT Administrator / Software Engineer will join a thriving team as someone who implements, manages, and monitors IT solutions in Microsoft Azure and works on the storage, governance, identity, virtual networks, and compute in a cloud environment. You will support internal staff as well as external clients while ensuring maximum performance and security of our apps and IT infrastructure. Responsibilities: Automate, deploy, configure, and manage Azure resources Create, configure, and manage Azure App Services inside ASE and stand-alone Implement and manage databases Configure resources for scale and performance Implement and maintain a Secure Environment Monitor and Optimize Operational Resources Plan and Implement High Availability and Disaster Recovery (HADR) Deploy, secure, and manage storage, including Azure Blob Storage Manage, Maintain, and test backups Identity management and governance Application integration Manage Azure Active Directory (Azure AD) Manage role-based access control (RBAC) Manage subscriptions Monitor health and performance of Azure resources Continually strengthen and protect the computing environment Regular and routine security assessment of cloud resources, including servers, storage, SQL databases, networks, applications, and workloads that are running in Azure. Serve on Security Incident Response Team Quality Assurance Prepare and present daily, weekly, and monthly reports of production environment variances, summaries, status, and recommendations Sales and Customer Support Assist onboarding team with customer implementation process, including participating on customer call Required Experience and Training 5+ years relevant experience in systems administration 4+ years experience Linux and Windows server administration Ability to administer virtual machines on the cloud Experience in Kubernetes and Docker Experience with storage solutions for virtual database files, application data, etc. Experience securing data from unauthorized access Experience ensuring data backups for restoration Experience maintaining corporate compliance and configuring archival storage Expertise in Microsoft security controls Experience working with PowerShell Programming skills in at least one language, preferably PHP Experience installing, maintaining, and troubleshooting MySQL databases; Oracle/MSSQL is a plus. Experience installing, maintaining, and troubleshooting Elasticsearch cluster a plus. Bachelor’s Degree Preferred Experience Prior experience in Google Cloud or AWS a plus Experience in a corporate environment Experience working from home\""
   ]
  },
  {
   "cell_type": "code",
   "execution_count": 10,
   "id": "cf491304-9110-4565-b45f-59bd3626e249",
   "metadata": {},
   "outputs": [],
   "source": [
    "import re"
   ]
  },
  {
   "cell_type": "code",
   "execution_count": null,
   "id": "2b016732-83f3-49c0-83cb-dabb73d876c6",
   "metadata": {},
   "outputs": [],
   "source": []
  },
  {
   "cell_type": "code",
   "execution_count": 19,
   "id": "92654acd-28db-41c3-b635-bd807704198b",
   "metadata": {},
   "outputs": [],
   "source": []
  },
  {
   "cell_type": "code",
   "execution_count": 56,
   "id": "be29febe-bf57-4e3e-8745-1bd85c737bdc",
   "metadata": {},
   "outputs": [],
   "source": []
  },
  {
   "cell_type": "code",
   "execution_count": 14,
   "id": "32a9777a-feda-460b-b29b-5355801860bc",
   "metadata": {},
   "outputs": [
    {
     "data": {
      "text/plain": [
       "['security', 'database', 'server', 'systems', 'cloud']"
      ]
     },
     "execution_count": 14,
     "metadata": {},
     "output_type": "execute_result"
    }
   ],
   "source": [
    "with open('utils/skills.txt') as f:\n",
    "    skills = f.read()\n",
    "f.close()\n",
    "skills = skills.split(',')\n",
    "x = list(set(re.findall(r\"(?=(\\b\" + '\\\\b|\\\\b'.join(skills) + r\"\\b))\", text)))\n",
    "check = list(df['Job_position'].unique())\n",
    "list(set(x)&set(check))"
   ]
  },
  {
   "cell_type": "code",
   "execution_count": 15,
   "id": "b0a59cb0-f947-4a16-9583-ba8ea8946d7d",
   "metadata": {},
   "outputs": [
    {
     "data": {
      "text/plain": [
       "['security', 'database', 'server', 'systems', 'cloud']"
      ]
     },
     "execution_count": 15,
     "metadata": {},
     "output_type": "execute_result"
    }
   ],
   "source": [
    "x"
   ]
  },
  {
   "cell_type": "code",
   "execution_count": 60,
   "id": "9a06d9a4-fdca-46e1-aba9-6c762fa2a7cb",
   "metadata": {},
   "outputs": [
    {
     "data": {
      "text/plain": [
       "['database', 'systems', 'cloud', 'server', 'security']"
      ]
     },
     "execution_count": 60,
     "metadata": {},
     "output_type": "execute_result"
    }
   ],
   "source": []
  },
  {
   "cell_type": "code",
   "execution_count": 17,
   "id": "4a139fe0-f319-4bb9-a6c5-818b4ec0204a",
   "metadata": {},
   "outputs": [],
   "source": [
    "temp = df[df['avg_yearly_sal'] > 0]"
   ]
  },
  {
   "cell_type": "code",
   "execution_count": null,
   "id": "5f1eb0f9-a4ce-4e99-9c6d-15231ee6dc73",
   "metadata": {},
   "outputs": [],
   "source": []
  },
  {
   "cell_type": "code",
   "execution_count": 18,
   "id": "d6805def-6c2f-4f2e-b1cc-9201a8163bff",
   "metadata": {},
   "outputs": [
    {
     "name": "stdout",
     "output_type": "stream",
     "text": [
      "security 1000000.0\n",
      "database 434612.28571428574\n",
      "server 1200000.0\n",
      "systems 2500000.0\n",
      "cloud 920000.0\n"
     ]
    }
   ],
   "source": [
    "check_df = pd.DataFrame(columns=['skill', 'avg_yearly_sal'])\n",
    "for i in x:\n",
    "    print(i, temp[temp['Job_position'] == i]['avg_yearly_sal'].values.mean())\n",
    "    check_df = check_df.append(pd.Series({'skill': i, 'avg_yearly_sal': temp[temp['Job_position'] == i]['avg_yearly_sal'].values.mean()}), ignore_index=True)"
   ]
  },
  {
   "cell_type": "code",
   "execution_count": 94,
   "id": "493ad899-5849-4a47-bff8-a758d28fd735",
   "metadata": {},
   "outputs": [],
   "source": [
    "check_df.sort_values(by = 'avg_yearly_sal', inplace=True)"
   ]
  },
  {
   "cell_type": "code",
   "execution_count": 95,
   "id": "7a4eb864-77c7-4258-b063-d1fac6e97322",
   "metadata": {},
   "outputs": [
    {
     "data": {
      "text/html": [
       "<div>\n",
       "<style scoped>\n",
       "    .dataframe tbody tr th:only-of-type {\n",
       "        vertical-align: middle;\n",
       "    }\n",
       "\n",
       "    .dataframe tbody tr th {\n",
       "        vertical-align: top;\n",
       "    }\n",
       "\n",
       "    .dataframe thead th {\n",
       "        text-align: right;\n",
       "    }\n",
       "</style>\n",
       "<table border=\"1\" class=\"dataframe\">\n",
       "  <thead>\n",
       "    <tr style=\"text-align: right;\">\n",
       "      <th></th>\n",
       "      <th>skill</th>\n",
       "      <th>avg_yearly_sal</th>\n",
       "    </tr>\n",
       "  </thead>\n",
       "  <tbody>\n",
       "    <tr>\n",
       "      <th>0</th>\n",
       "      <td>database</td>\n",
       "      <td>434612.285714</td>\n",
       "    </tr>\n",
       "    <tr>\n",
       "      <th>2</th>\n",
       "      <td>cloud</td>\n",
       "      <td>920000.0</td>\n",
       "    </tr>\n",
       "    <tr>\n",
       "      <th>4</th>\n",
       "      <td>security</td>\n",
       "      <td>1000000.0</td>\n",
       "    </tr>\n",
       "    <tr>\n",
       "      <th>3</th>\n",
       "      <td>server</td>\n",
       "      <td>1200000.0</td>\n",
       "    </tr>\n",
       "    <tr>\n",
       "      <th>1</th>\n",
       "      <td>systems</td>\n",
       "      <td>2500000.0</td>\n",
       "    </tr>\n",
       "  </tbody>\n",
       "</table>\n",
       "</div>"
      ],
      "text/plain": [
       "      skill avg_yearly_sal\n",
       "0  database  434612.285714\n",
       "2     cloud       920000.0\n",
       "4  security      1000000.0\n",
       "3    server      1200000.0\n",
       "1   systems      2500000.0"
      ]
     },
     "execution_count": 95,
     "metadata": {},
     "output_type": "execute_result"
    }
   ],
   "source": [
    "check_df"
   ]
  },
  {
   "cell_type": "code",
   "execution_count": null,
   "id": "0913f5c1-6d5b-41d8-9733-3cc392d5154f",
   "metadata": {},
   "outputs": [],
   "source": []
  },
  {
   "cell_type": "code",
   "execution_count": null,
   "id": "f6a946e7-dc16-4b4e-844b-8d6ba85064e5",
   "metadata": {},
   "outputs": [],
   "source": []
  },
  {
   "cell_type": "code",
   "execution_count": 91,
   "id": "ad07b694-5e3e-4ba1-95c6-4589773919c5",
   "metadata": {},
   "outputs": [
    {
     "data": {
      "image/png": "[encoded data removed]",
      "text/plain": [
       "<Figure size 432x288 with 1 Axes>"
      ]
     },
     "metadata": {
      "needs_background": "light"
     },
     "output_type": "display_data"
    }
   ],
   "source": [
    "# plt.figure(figsize=(10,12))\n",
    "splot = sns.barplot(y = 'avg_yearly_sal', x='skill', data=check_df)\n",
    "for p in splot.patches:\n",
    "                   splot.annotate(format(p.get_height(), '.1f'), \n",
    "                   (p.get_x() + p.get_width() / 2., p.get_height()), \n",
    "                   ha = 'center', va = 'center', \n",
    "                   xytext = (0, 9), \n",
    "                   textcoords = 'offset points')    \n",
    "# plt.show(block=False)   "
   ]
  },
  {
   "cell_type": "code",
   "execution_count": null,
   "id": "d1d493ee-8384-483c-ba67-0becce3ce6b2",
   "metadata": {},
   "outputs": [],
   "source": []
  }
 ],
 "metadata": {
  "kernelspec": {
   "display_name": "Python 3 (ipykernel)",
   "language": "python",
   "name": "python3"
  },
  "language_info": {
   "codemirror_mode": {
    "name": "ipython",
    "version": 3
   },
   "file_extension": ".py",
   "mimetype": "text/x-python",
   "name": "python",
   "nbconvert_exporter": "python",
   "pygments_lexer": "ipython3",
   "version": "3.8.0"
  }
 },
 "nbformat": 4,
 "nbformat_minor": 5
}
