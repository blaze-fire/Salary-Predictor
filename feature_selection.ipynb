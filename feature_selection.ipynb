{
 "cells": [
  {
   "cell_type": "code",
   "execution_count": 1,
   "metadata": {},
   "outputs": [],
   "source": [
    "import pandas as pd\n",
    "import numpy as np\n",
    "import matplotlib.pyplot as plt"
   ]
  },
  {
   "cell_type": "code",
   "execution_count": 2,
   "metadata": {},
   "outputs": [],
   "source": [
    "%matplotlib inline"
   ]
  },
  {
   "cell_type": "code",
   "execution_count": 3,
   "metadata": {},
   "outputs": [],
   "source": [
    "df = pd.read_csv('./data_prepared.csv')"
   ]
  },
  {
   "cell_type": "code",
   "execution_count": 4,
   "metadata": {},
   "outputs": [],
   "source": [
    "from sklearn.feature_selection import VarianceThreshold"
   ]
  },
  {
   "cell_type": "code",
   "execution_count": 5,
   "metadata": {},
   "outputs": [],
   "source": [
    "var_thresh = VarianceThreshold(threshold=0.1)"
   ]
  },
  {
   "cell_type": "code",
   "execution_count": 6,
   "metadata": {},
   "outputs": [],
   "source": [
    "num_df = df.select_dtypes(exclude='object')"
   ]
  },
  {
   "cell_type": "code",
   "execution_count": 7,
   "metadata": {},
   "outputs": [],
   "source": [
    "temp = var_thresh.fit_transform(num_df)"
   ]
  },
  {
   "cell_type": "code",
   "execution_count": 8,
   "metadata": {},
   "outputs": [
    {
     "data": {
      "text/plain": [
       "(1124, 82)"
      ]
     },
     "execution_count": 8,
     "metadata": {},
     "output_type": "execute_result"
    }
   ],
   "source": [
    "num_df.shape"
   ]
  },
  {
   "cell_type": "code",
   "execution_count": 20,
   "metadata": {},
   "outputs": [],
   "source": [
    "final_df = num_df[num_df.columns[var_thresh.get_support(indices=True)]]"
   ]
  },
  {
   "cell_type": "code",
   "execution_count": 23,
   "metadata": {},
   "outputs": [
    {
     "name": "stderr",
     "output_type": "stream",
     "text": [
      "c:\\python\\python38\\lib\\site-packages\\pandas\\core\\frame.py:4305: SettingWithCopyWarning: \n",
      "A value is trying to be set on a copy of a slice from a DataFrame\n",
      "\n",
      "See the caveats in the documentation: https://pandas.pydata.org/pandas-docs/stable/user_guide/indexing.html#returning-a-view-versus-a-copy\n",
      "  return super().drop(\n"
     ]
    }
   ],
   "source": [
    "final_df.drop(['min_sal','max_sal', 'monthly_sal'], axis=1, inplace=True)"
   ]
  },
  {
   "cell_type": "code",
   "execution_count": 26,
   "metadata": {},
   "outputs": [],
   "source": [
    "from sklearn.feature_selection import chi2 \n",
    "from sklearn.feature_selection import f_classif \n",
    "from sklearn.feature_selection import f_regression\n",
    "from sklearn.feature_selection import mutual_info_classif \n",
    "from sklearn.feature_selection import mutual_info_regression \n",
    "from sklearn.feature_selection import SelectKBest \n",
    "from sklearn.feature_selection import SelectPercentile \n",
    " \n",
    "class UnivariateFeatureSelction:     \n",
    "    def __init__(self, n_features, problem_type, scoring):\n",
    "        \"\"\"         Custom univariate feature selection wrapper on\n",
    "        different univariate feature selection models from\n",
    "        scikit-learn.         \n",
    "        :param n_features: SelectPercentile if float else SelectKBest         \n",
    "        :param problem_type: classification or regression         \n",
    "        :param scoring: scoring function, string         \"\"\"         \n",
    "        # for a given problem type, there are only         \n",
    "        # a few valid scoring methods         \n",
    "        # you can extend this with your own custom         \n",
    "        # methods if you wish         \n",
    "        if problem_type == \"classification\":\n",
    "            valid_scoring = {                 \n",
    "                \"f_classif\": f_classif,\n",
    "                \"chi2\": chi2,\n",
    "                \"mutual_info_classif\": mutual_info_classif\n",
    "            }         \n",
    "        else:\n",
    "            valid_scoring = {\n",
    "                \"f_regression\": f_regression,\n",
    "                \"mutual_info_regression\": mutual_info_regression\n",
    "            }                  \n",
    "        # raise exception if we do not have a valid scoring method         \n",
    "        if scoring not in valid_scoring:\n",
    "            raise Exception(\"Invalid scoring function\")\n",
    "        \n",
    "        # if n_features is int, we use selectkbest         \n",
    "        # if n_features is float, we use selectpercentile         \n",
    "        # please note that it is int in both cases in sklearn         \n",
    "        if isinstance(n_features, int):\n",
    "            self.selection = SelectKBest(\n",
    "                valid_scoring[scoring],\n",
    "                k=n_features \n",
    "                            )         \n",
    "        elif isinstance(n_features, float):             \n",
    "            self.selection = SelectPercentile(\n",
    "                valid_scoring[scoring],\n",
    "                percentile=int(n_features * 100)\n",
    "            )         \n",
    "        else:\n",
    "            raise Exception(\"Invalid type of feature\")\n",
    "    \n",
    "    # same fit function\n",
    "    def fit(self, X, y):   \n",
    "        return self.selection.fit(X, y)\n",
    "    \n",
    "    # same transform function     \n",
    "    def transform(self, X):\n",
    "        return self.selection.transform(X)\n",
    "    \n",
    "    # same fit_transform function\n",
    "    def fit_transform(self, X, y):\n",
    "        return self.selection.fit_transform(X, y)"
   ]
  },
  {
   "cell_type": "code",
   "execution_count": 27,
   "metadata": {},
   "outputs": [],
   "source": [
    "X = num_df.drop('avg_yearly_sal', axis=1)\n",
    "y = num_df['avg_yearly_sal']"
   ]
  },
  {
   "cell_type": "code",
   "execution_count": 28,
   "metadata": {},
   "outputs": [
    {
     "data": {
      "text/plain": [
       "SelectPercentile(score_func=<function f_regression at 0x000001E59E2AC3A0>)"
      ]
     },
     "execution_count": 28,
     "metadata": {},
     "output_type": "execute_result"
    }
   ],
   "source": [
    "ufs = UnivariateFeatureSelction(     \n",
    "    n_features=0.1,      \n",
    "    problem_type=\"regression\",      \n",
    "    scoring=\"f_regression\" )\n",
    "ufs.fit(X, y)"
   ]
  },
  {
   "cell_type": "code",
   "execution_count": 29,
   "metadata": {},
   "outputs": [],
   "source": [
    "X_transformed = ufs.transform(X)"
   ]
  },
  {
   "cell_type": "code",
   "execution_count": 32,
   "metadata": {},
   "outputs": [
    {
     "data": {
      "text/plain": [
       "(1124, 8)"
      ]
     },
     "execution_count": 32,
     "metadata": {},
     "output_type": "execute_result"
    }
   ],
   "source": [
    "X_transformed.shape"
   ]
  },
  {
   "cell_type": "code",
   "execution_count": null,
   "metadata": {},
   "outputs": [],
   "source": []
  }
 ],
 "metadata": {
  "kernelspec": {
   "display_name": "Python 3",
   "language": "python",
   "name": "python3"
  },
  "language_info": {
   "codemirror_mode": {
    "name": "ipython",
    "version": 3
   },
   "file_extension": ".py",
   "mimetype": "text/x-python",
   "name": "python",
   "nbconvert_exporter": "python",
   "pygments_lexer": "ipython3",
   "version": "3.8.5"
  }
 },
 "nbformat": 4,
 "nbformat_minor": 4
}
